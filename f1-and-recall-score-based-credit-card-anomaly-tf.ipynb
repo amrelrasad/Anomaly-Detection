{
 "cells": [
  {
   "cell_type": "markdown",
   "metadata": {
    "colab_type": "text",
    "id": "fW1eP--wmjwU"
   },
   "source": [
    "# Credit Card Fraud Model Using MLPs Based on F1 and Recall Score"
   ]
  },
  {
   "cell_type": "markdown",
   "metadata": {
    "colab_type": "text",
    "id": "qrt1Ndfe3ZmK"
   },
   "source": [
    "In this notebook, MLPs calssifiers are presented for credit card fraud data set. These models are important for credit card companices to be able to better predict fraudulent transactions.\n",
    "\n",
    "This data set is highly imbalanced towards non-fraudulent transactions. In order to resolve this, \n",
    "\n",
    "1. first, I use splitting to create seperate **balanced** test set. \n",
    "\n",
    "2. Second, the train dataset, referred to as **original** train data set, is used to create another **balanced** and **imbalanced** train data sets. \n",
    "3. Third, three MLP networks are trained over the 3 train datasets and tested over the same test dataset. \n",
    "4. The process from 1-3 is repeated for multiple test-train datesets to achieve accurate performance meausrments. \n",
    "\n",
    "For training process, I keep the network that provides highest metric over the test dataset. Four different training experiments were done based on four metrics: F1 score, recll score, accuracy score, and area under ROC curve score. \n"
   ]
  },
  {
   "cell_type": "markdown",
   "metadata": {
    "colab_type": "text",
    "id": "Zr8C4RJtm1hk"
   },
   "source": [
    "\n",
    "## 1.  Import Packages and Loading Original Data\n",
    "\n",
    "\n"
   ]
  },
  {
   "cell_type": "code",
   "execution_count": 1,
   "metadata": {
    "colab": {},
    "colab_type": "code",
    "id": "vH8DbNj_F_vY"
   },
   "outputs": [],
   "source": [
    "import tensorflow as tf\n",
    "#import tensorflow.contrib.eager as tfe\n",
    "#tf.enable_eager_execution()"
   ]
  },
  {
   "cell_type": "code",
   "execution_count": 2,
   "metadata": {
    "colab": {},
    "colab_type": "code",
    "id": "2CUDTF1wSYrl"
   },
   "outputs": [
    {
     "name": "stderr",
     "output_type": "stream",
     "text": [
      "Using TensorFlow backend.\n"
     ]
    }
   ],
   "source": [
    "#imports\n",
    "import numpy as np\n",
    "from glob import glob\n",
    "from tensorflow import keras\n",
    "from tensorflow.keras.layers import Flatten, Dense\n",
    "from keras import optimizers\n",
    "import matplotlib \n",
    "matplotlib.use('agg')\n",
    "import matplotlib.pyplot as plt                        \n",
    "%matplotlib inline\n",
    "import os\n",
    "import datetime\n",
    "import time\n",
    "from PIL import ImageFile\n",
    "from sklearn import preprocessing\n",
    "from sklearn.preprocessing import StandardScaler\n",
    "from sklearn.preprocessing import MinMaxScaler\n",
    "from sklearn.metrics import classification_report,accuracy_score,confusion_matrix,recall_score,f1_score,roc_curve,roc_auc_score\n",
    "from sklearn.model_selection import train_test_split\n",
    "ImageFile.LOAD_TRUNCATED_IMAGES = True\n",
    "import warnings\n",
    "warnings.filterwarnings(\"ignore\")\n",
    "import pylab as pl\n",
    "import pandas as pd \n",
    "import seaborn as sns\n",
    "from sklearn.utils import shuffle\n",
    "import pickle\n"
   ]
  },
  {
   "cell_type": "code",
   "execution_count": 3,
   "metadata": {
    "_cell_guid": "7e5ca1e3-3597-19d2-b4be-dffd335df630",
    "colab": {
     "base_uri": "https://localhost:8080/",
     "height": 244
    },
    "colab_type": "code",
    "id": "XVeNWWBnFvGt",
    "outputId": "456a77bc-d8a0-4458-dc23-6b96b76cfadc"
   },
   "outputs": [
    {
     "data": {
      "text/html": [
       "<div>\n",
       "<style scoped>\n",
       "    .dataframe tbody tr th:only-of-type {\n",
       "        vertical-align: middle;\n",
       "    }\n",
       "\n",
       "    .dataframe tbody tr th {\n",
       "        vertical-align: top;\n",
       "    }\n",
       "\n",
       "    .dataframe thead th {\n",
       "        text-align: right;\n",
       "    }\n",
       "</style>\n",
       "<table border=\"1\" class=\"dataframe\">\n",
       "  <thead>\n",
       "    <tr style=\"text-align: right;\">\n",
       "      <th></th>\n",
       "      <th>Time</th>\n",
       "      <th>V1</th>\n",
       "      <th>V2</th>\n",
       "      <th>V3</th>\n",
       "      <th>V4</th>\n",
       "      <th>V5</th>\n",
       "      <th>V6</th>\n",
       "      <th>V7</th>\n",
       "      <th>V8</th>\n",
       "      <th>V9</th>\n",
       "      <th>V10</th>\n",
       "      <th>V11</th>\n",
       "      <th>V12</th>\n",
       "      <th>V13</th>\n",
       "      <th>V14</th>\n",
       "      <th>V15</th>\n",
       "      <th>V16</th>\n",
       "      <th>V17</th>\n",
       "      <th>V18</th>\n",
       "      <th>V19</th>\n",
       "      <th>V20</th>\n",
       "      <th>V21</th>\n",
       "      <th>V22</th>\n",
       "      <th>V23</th>\n",
       "      <th>V24</th>\n",
       "      <th>V25</th>\n",
       "      <th>V26</th>\n",
       "      <th>V27</th>\n",
       "      <th>V28</th>\n",
       "      <th>Amount</th>\n",
       "      <th>Class</th>\n",
       "    </tr>\n",
       "  </thead>\n",
       "  <tbody>\n",
       "    <tr>\n",
       "      <th>0</th>\n",
       "      <td>0.0</td>\n",
       "      <td>-1.359807</td>\n",
       "      <td>-0.072781</td>\n",
       "      <td>2.536347</td>\n",
       "      <td>1.378155</td>\n",
       "      <td>-0.338321</td>\n",
       "      <td>0.462388</td>\n",
       "      <td>0.239599</td>\n",
       "      <td>0.098698</td>\n",
       "      <td>0.363787</td>\n",
       "      <td>0.090794</td>\n",
       "      <td>-0.551600</td>\n",
       "      <td>-0.617801</td>\n",
       "      <td>-0.991390</td>\n",
       "      <td>-0.311169</td>\n",
       "      <td>1.468177</td>\n",
       "      <td>-0.470401</td>\n",
       "      <td>0.207971</td>\n",
       "      <td>0.025791</td>\n",
       "      <td>0.403993</td>\n",
       "      <td>0.251412</td>\n",
       "      <td>-0.018307</td>\n",
       "      <td>0.277838</td>\n",
       "      <td>-0.110474</td>\n",
       "      <td>0.066928</td>\n",
       "      <td>0.128539</td>\n",
       "      <td>-0.189115</td>\n",
       "      <td>0.133558</td>\n",
       "      <td>-0.021053</td>\n",
       "      <td>149.62</td>\n",
       "      <td>0</td>\n",
       "    </tr>\n",
       "    <tr>\n",
       "      <th>1</th>\n",
       "      <td>0.0</td>\n",
       "      <td>1.191857</td>\n",
       "      <td>0.266151</td>\n",
       "      <td>0.166480</td>\n",
       "      <td>0.448154</td>\n",
       "      <td>0.060018</td>\n",
       "      <td>-0.082361</td>\n",
       "      <td>-0.078803</td>\n",
       "      <td>0.085102</td>\n",
       "      <td>-0.255425</td>\n",
       "      <td>-0.166974</td>\n",
       "      <td>1.612727</td>\n",
       "      <td>1.065235</td>\n",
       "      <td>0.489095</td>\n",
       "      <td>-0.143772</td>\n",
       "      <td>0.635558</td>\n",
       "      <td>0.463917</td>\n",
       "      <td>-0.114805</td>\n",
       "      <td>-0.183361</td>\n",
       "      <td>-0.145783</td>\n",
       "      <td>-0.069083</td>\n",
       "      <td>-0.225775</td>\n",
       "      <td>-0.638672</td>\n",
       "      <td>0.101288</td>\n",
       "      <td>-0.339846</td>\n",
       "      <td>0.167170</td>\n",
       "      <td>0.125895</td>\n",
       "      <td>-0.008983</td>\n",
       "      <td>0.014724</td>\n",
       "      <td>2.69</td>\n",
       "      <td>0</td>\n",
       "    </tr>\n",
       "    <tr>\n",
       "      <th>2</th>\n",
       "      <td>1.0</td>\n",
       "      <td>-1.358354</td>\n",
       "      <td>-1.340163</td>\n",
       "      <td>1.773209</td>\n",
       "      <td>0.379780</td>\n",
       "      <td>-0.503198</td>\n",
       "      <td>1.800499</td>\n",
       "      <td>0.791461</td>\n",
       "      <td>0.247676</td>\n",
       "      <td>-1.514654</td>\n",
       "      <td>0.207643</td>\n",
       "      <td>0.624501</td>\n",
       "      <td>0.066084</td>\n",
       "      <td>0.717293</td>\n",
       "      <td>-0.165946</td>\n",
       "      <td>2.345865</td>\n",
       "      <td>-2.890083</td>\n",
       "      <td>1.109969</td>\n",
       "      <td>-0.121359</td>\n",
       "      <td>-2.261857</td>\n",
       "      <td>0.524980</td>\n",
       "      <td>0.247998</td>\n",
       "      <td>0.771679</td>\n",
       "      <td>0.909412</td>\n",
       "      <td>-0.689281</td>\n",
       "      <td>-0.327642</td>\n",
       "      <td>-0.139097</td>\n",
       "      <td>-0.055353</td>\n",
       "      <td>-0.059752</td>\n",
       "      <td>378.66</td>\n",
       "      <td>0</td>\n",
       "    </tr>\n",
       "    <tr>\n",
       "      <th>3</th>\n",
       "      <td>1.0</td>\n",
       "      <td>-0.966272</td>\n",
       "      <td>-0.185226</td>\n",
       "      <td>1.792993</td>\n",
       "      <td>-0.863291</td>\n",
       "      <td>-0.010309</td>\n",
       "      <td>1.247203</td>\n",
       "      <td>0.237609</td>\n",
       "      <td>0.377436</td>\n",
       "      <td>-1.387024</td>\n",
       "      <td>-0.054952</td>\n",
       "      <td>-0.226487</td>\n",
       "      <td>0.178228</td>\n",
       "      <td>0.507757</td>\n",
       "      <td>-0.287924</td>\n",
       "      <td>-0.631418</td>\n",
       "      <td>-1.059647</td>\n",
       "      <td>-0.684093</td>\n",
       "      <td>1.965775</td>\n",
       "      <td>-1.232622</td>\n",
       "      <td>-0.208038</td>\n",
       "      <td>-0.108300</td>\n",
       "      <td>0.005274</td>\n",
       "      <td>-0.190321</td>\n",
       "      <td>-1.175575</td>\n",
       "      <td>0.647376</td>\n",
       "      <td>-0.221929</td>\n",
       "      <td>0.062723</td>\n",
       "      <td>0.061458</td>\n",
       "      <td>123.50</td>\n",
       "      <td>0</td>\n",
       "    </tr>\n",
       "    <tr>\n",
       "      <th>4</th>\n",
       "      <td>2.0</td>\n",
       "      <td>-1.158233</td>\n",
       "      <td>0.877737</td>\n",
       "      <td>1.548718</td>\n",
       "      <td>0.403034</td>\n",
       "      <td>-0.407193</td>\n",
       "      <td>0.095921</td>\n",
       "      <td>0.592941</td>\n",
       "      <td>-0.270533</td>\n",
       "      <td>0.817739</td>\n",
       "      <td>0.753074</td>\n",
       "      <td>-0.822843</td>\n",
       "      <td>0.538196</td>\n",
       "      <td>1.345852</td>\n",
       "      <td>-1.119670</td>\n",
       "      <td>0.175121</td>\n",
       "      <td>-0.451449</td>\n",
       "      <td>-0.237033</td>\n",
       "      <td>-0.038195</td>\n",
       "      <td>0.803487</td>\n",
       "      <td>0.408542</td>\n",
       "      <td>-0.009431</td>\n",
       "      <td>0.798278</td>\n",
       "      <td>-0.137458</td>\n",
       "      <td>0.141267</td>\n",
       "      <td>-0.206010</td>\n",
       "      <td>0.502292</td>\n",
       "      <td>0.219422</td>\n",
       "      <td>0.215153</td>\n",
       "      <td>69.99</td>\n",
       "      <td>0</td>\n",
       "    </tr>\n",
       "  </tbody>\n",
       "</table>\n",
       "</div>"
      ],
      "text/plain": [
       "   Time        V1        V2        V3  ...         V27       V28  Amount  Class\n",
       "0   0.0 -1.359807 -0.072781  2.536347  ...    0.133558 -0.021053  149.62      0\n",
       "1   0.0  1.191857  0.266151  0.166480  ...   -0.008983  0.014724    2.69      0\n",
       "2   1.0 -1.358354 -1.340163  1.773209  ...   -0.055353 -0.059752  378.66      0\n",
       "3   1.0 -0.966272 -0.185226  1.792993  ...    0.062723  0.061458  123.50      0\n",
       "4   2.0 -1.158233  0.877737  1.548718  ...    0.219422  0.215153   69.99      0\n",
       "\n",
       "[5 rows x 31 columns]"
      ]
     },
     "execution_count": 3,
     "metadata": {},
     "output_type": "execute_result"
    }
   ],
   "source": [
    "data = pd.read_csv('../input/creditcard.csv')\n",
    "data.head()"
   ]
  },
  {
   "cell_type": "markdown",
   "metadata": {
    "_cell_guid": "6268bbd8-6de5-2389-5693-ecd9a14872d4",
    "colab_type": "text",
    "id": "ieBlAiFYFvGx"
   },
   "source": [
    "## 2. Checking Data Balance"
   ]
  },
  {
   "cell_type": "code",
   "execution_count": 4,
   "metadata": {
    "_cell_guid": "3f6e6674-12e9-6983-5788-5755f80c7ec2",
    "colab": {
     "base_uri": "https://localhost:8080/",
     "height": 348
    },
    "colab_type": "code",
    "id": "ndBo_zWEFvGy",
    "outputId": "eeb664d6-6f8d-4906-b17f-07ae38656ddd"
   },
   "outputs": [
    {
     "data": {
      "text/plain": [
       "0    284315\n",
       "1       492\n",
       "Name: Class, dtype: int64"
      ]
     },
     "execution_count": 4,
     "metadata": {},
     "output_type": "execute_result"
    },
    {
     "data": {
      "image/png": "[encoded data removed]",
      "text/plain": [
       "<Figure size 432x288 with 1 Axes>"
      ]
     },
     "metadata": {},
     "output_type": "display_data"
    }
   ],
   "source": [
    "classes_count = pd.value_counts(data['Class'], sort = True).sort_index()\n",
    "classes_count.plot(kind = 'barh',logx=True)\n",
    "plt.title(\"Fraud class histogram\")\n",
    "plt.xlabel(\"Count\")\n",
    "plt.ylabel(\"Class\")\n",
    "plt.yticks(ticks=np.arange(2),labels=('non-fraudulent', 'fraudulent'))\n",
    "classes_count"
   ]
  },
  {
   "cell_type": "markdown",
   "metadata": {
    "colab_type": "text",
    "id": "9wIMrEzpJFIs"
   },
   "source": [
    "**Data is clearly imbalanced**"
   ]
  },
  {
   "cell_type": "code",
   "execution_count": 5,
   "metadata": {
    "colab": {
     "base_uri": "https://localhost:8080/",
     "height": 34
    },
    "colab_type": "code",
    "id": "HA31T0PeMDa_",
    "outputId": "177c0569-204c-4e0b-9462-63530e898183"
   },
   "outputs": [
    {
     "data": {
      "text/plain": [
       "(284807, 31)"
      ]
     },
     "execution_count": 5,
     "metadata": {},
     "output_type": "execute_result"
    }
   ],
   "source": [
    "data.shape"
   ]
  },
  {
   "cell_type": "code",
   "execution_count": 6,
   "metadata": {
    "colab": {},
    "colab_type": "code",
    "id": "t3F1JNCCu8gR"
   },
   "outputs": [],
   "source": [
    "data = data.drop(['Time'],axis=1)"
   ]
  },
  {
   "cell_type": "markdown",
   "metadata": {
    "colab_type": "text",
    "id": "jppeXXChvFSP"
   },
   "source": [
    "**Drop duplicate records**"
   ]
  },
  {
   "cell_type": "code",
   "execution_count": 7,
   "metadata": {
    "colab": {
     "base_uri": "https://localhost:8080/",
     "height": 35
    },
    "colab_type": "code",
    "id": "SiL3rCmnMaw1",
    "outputId": "99532a4a-1856-4005-9021-379e783995e6"
   },
   "outputs": [
    {
     "data": {
      "text/plain": [
       "(275663, 30)"
      ]
     },
     "execution_count": 7,
     "metadata": {},
     "output_type": "execute_result"
    }
   ],
   "source": [
    "data.drop_duplicates(inplace=True)\n",
    "data.shape"
   ]
  },
  {
   "cell_type": "code",
   "execution_count": 8,
   "metadata": {
    "colab": {},
    "colab_type": "code",
    "id": "7uQRktsyUSXL"
   },
   "outputs": [],
   "source": [
    "cols=data.columns.tolist()\n",
    "cols.remove('Class')\n"
   ]
  },
  {
   "cell_type": "code",
   "execution_count": 9,
   "metadata": {
    "colab": {},
    "colab_type": "code",
    "id": "gSf4N77nU9aW"
   },
   "outputs": [],
   "source": [
    "data[cols]=preprocessing.StandardScaler().fit_transform(data[cols])"
   ]
  },
  {
   "cell_type": "code",
   "execution_count": 10,
   "metadata": {
    "colab": {
     "base_uri": "https://localhost:8080/",
     "height": 251
    },
    "colab_type": "code",
    "id": "qjdF-c_fVVj6",
    "outputId": "814b2296-718e-4432-ab3c-ab6e818b2cea"
   },
   "outputs": [
    {
     "data": {
      "text/html": [
       "<div>\n",
       "<style scoped>\n",
       "    .dataframe tbody tr th:only-of-type {\n",
       "        vertical-align: middle;\n",
       "    }\n",
       "\n",
       "    .dataframe tbody tr th {\n",
       "        vertical-align: top;\n",
       "    }\n",
       "\n",
       "    .dataframe thead th {\n",
       "        text-align: right;\n",
       "    }\n",
       "</style>\n",
       "<table border=\"1\" class=\"dataframe\">\n",
       "  <thead>\n",
       "    <tr style=\"text-align: right;\">\n",
       "      <th></th>\n",
       "      <th>V1</th>\n",
       "      <th>V2</th>\n",
       "      <th>V3</th>\n",
       "      <th>V4</th>\n",
       "      <th>V5</th>\n",
       "      <th>V6</th>\n",
       "      <th>V7</th>\n",
       "      <th>V8</th>\n",
       "      <th>V9</th>\n",
       "      <th>V10</th>\n",
       "      <th>V11</th>\n",
       "      <th>V12</th>\n",
       "      <th>V13</th>\n",
       "      <th>V14</th>\n",
       "      <th>V15</th>\n",
       "      <th>V16</th>\n",
       "      <th>V17</th>\n",
       "      <th>V18</th>\n",
       "      <th>V19</th>\n",
       "      <th>V20</th>\n",
       "      <th>V21</th>\n",
       "      <th>V22</th>\n",
       "      <th>V23</th>\n",
       "      <th>V24</th>\n",
       "      <th>V25</th>\n",
       "      <th>V26</th>\n",
       "      <th>V27</th>\n",
       "      <th>V28</th>\n",
       "      <th>Amount</th>\n",
       "      <th>Class</th>\n",
       "    </tr>\n",
       "  </thead>\n",
       "  <tbody>\n",
       "    <tr>\n",
       "      <th>0</th>\n",
       "      <td>-0.677252</td>\n",
       "      <td>-0.042196</td>\n",
       "      <td>1.665517</td>\n",
       "      <td>0.970648</td>\n",
       "      <td>-0.237760</td>\n",
       "      <td>0.362923</td>\n",
       "      <td>0.186248</td>\n",
       "      <td>0.087610</td>\n",
       "      <td>0.341922</td>\n",
       "      <td>0.080661</td>\n",
       "      <td>-0.533453</td>\n",
       "      <td>-0.613276</td>\n",
       "      <td>-0.992268</td>\n",
       "      <td>-0.327378</td>\n",
       "      <td>1.610961</td>\n",
       "      <td>-0.529446</td>\n",
       "      <td>0.245605</td>\n",
       "      <td>0.026041</td>\n",
       "      <td>0.491740</td>\n",
       "      <td>0.317976</td>\n",
       "      <td>-0.028490</td>\n",
       "      <td>0.374475</td>\n",
       "      <td>-0.171879</td>\n",
       "      <td>0.121866</td>\n",
       "      <td>0.254403</td>\n",
       "      <td>-0.390126</td>\n",
       "      <td>0.328051</td>\n",
       "      <td>-0.066006</td>\n",
       "      <td>0.233169</td>\n",
       "      <td>0</td>\n",
       "    </tr>\n",
       "    <tr>\n",
       "      <th>1</th>\n",
       "      <td>0.629606</td>\n",
       "      <td>0.161091</td>\n",
       "      <td>0.093503</td>\n",
       "      <td>0.317705</td>\n",
       "      <td>0.051286</td>\n",
       "      <td>-0.051899</td>\n",
       "      <td>-0.070455</td>\n",
       "      <td>0.076200</td>\n",
       "      <td>-0.220944</td>\n",
       "      <td>-0.156471</td>\n",
       "      <td>1.587252</td>\n",
       "      <td>1.072019</td>\n",
       "      <td>0.488723</td>\n",
       "      <td>-0.151646</td>\n",
       "      <td>0.703742</td>\n",
       "      <td>0.531894</td>\n",
       "      <td>-0.136460</td>\n",
       "      <td>-0.222465</td>\n",
       "      <td>-0.178295</td>\n",
       "      <td>-0.092942</td>\n",
       "      <td>-0.311496</td>\n",
       "      <td>-0.887280</td>\n",
       "      <td>0.163479</td>\n",
       "      <td>-0.549879</td>\n",
       "      <td>0.328102</td>\n",
       "      <td>0.260534</td>\n",
       "      <td>-0.027174</td>\n",
       "      <td>0.041547</td>\n",
       "      <td>-0.347092</td>\n",
       "      <td>0</td>\n",
       "    </tr>\n",
       "    <tr>\n",
       "      <th>2</th>\n",
       "      <td>-0.676508</td>\n",
       "      <td>-0.802356</td>\n",
       "      <td>1.159302</td>\n",
       "      <td>0.269700</td>\n",
       "      <td>-0.357400</td>\n",
       "      <td>1.381885</td>\n",
       "      <td>0.631175</td>\n",
       "      <td>0.212634</td>\n",
       "      <td>-1.365587</td>\n",
       "      <td>0.188156</td>\n",
       "      <td>0.618944</td>\n",
       "      <td>0.071527</td>\n",
       "      <td>0.716998</td>\n",
       "      <td>-0.174924</td>\n",
       "      <td>2.567288</td>\n",
       "      <td>-3.278092</td>\n",
       "      <td>1.313287</td>\n",
       "      <td>-0.148797</td>\n",
       "      <td>-2.757242</td>\n",
       "      <td>0.668726</td>\n",
       "      <td>0.334775</td>\n",
       "      <td>1.054346</td>\n",
       "      <td>1.443271</td>\n",
       "      <td>-1.126933</td>\n",
       "      <td>-0.615882</td>\n",
       "      <td>-0.286812</td>\n",
       "      <td>-0.142731</td>\n",
       "      <td>-0.182341</td>\n",
       "      <td>1.137702</td>\n",
       "      <td>0</td>\n",
       "    </tr>\n",
       "    <tr>\n",
       "      <th>3</th>\n",
       "      <td>-0.475699</td>\n",
       "      <td>-0.109639</td>\n",
       "      <td>1.172425</td>\n",
       "      <td>-0.603047</td>\n",
       "      <td>0.000255</td>\n",
       "      <td>0.960554</td>\n",
       "      <td>0.184644</td>\n",
       "      <td>0.321531</td>\n",
       "      <td>-1.249571</td>\n",
       "      <td>-0.053417</td>\n",
       "      <td>-0.214893</td>\n",
       "      <td>0.183822</td>\n",
       "      <td>0.507391</td>\n",
       "      <td>-0.302975</td>\n",
       "      <td>-0.676752</td>\n",
       "      <td>-1.198803</td>\n",
       "      <td>-0.810318</td>\n",
       "      <td>2.331054</td>\n",
       "      <td>-1.502871</td>\n",
       "      <td>-0.271101</td>\n",
       "      <td>-0.151250</td>\n",
       "      <td>-0.000762</td>\n",
       "      <td>-0.298328</td>\n",
       "      <td>-1.929997</td>\n",
       "      <td>1.244220</td>\n",
       "      <td>-0.457904</td>\n",
       "      <td>0.151523</td>\n",
       "      <td>0.182036</td>\n",
       "      <td>0.130015</td>\n",
       "      <td>0</td>\n",
       "    </tr>\n",
       "    <tr>\n",
       "      <th>4</th>\n",
       "      <td>-0.574014</td>\n",
       "      <td>0.527913</td>\n",
       "      <td>1.010389</td>\n",
       "      <td>0.286026</td>\n",
       "      <td>-0.287736</td>\n",
       "      <td>0.083861</td>\n",
       "      <td>0.471122</td>\n",
       "      <td>-0.222252</td>\n",
       "      <td>0.754566</td>\n",
       "      <td>0.689922</td>\n",
       "      <td>-0.799229</td>\n",
       "      <td>0.544272</td>\n",
       "      <td>1.345772</td>\n",
       "      <td>-1.176136</td>\n",
       "      <td>0.202051</td>\n",
       "      <td>-0.507919</td>\n",
       "      <td>-0.281140</td>\n",
       "      <td>-0.049984</td>\n",
       "      <td>0.978620</td>\n",
       "      <td>0.519438</td>\n",
       "      <td>-0.016382</td>\n",
       "      <td>1.090965</td>\n",
       "      <td>-0.214613</td>\n",
       "      <td>0.244628</td>\n",
       "      <td>-0.383837</td>\n",
       "      <td>1.037992</td>\n",
       "      <td>0.542031</td>\n",
       "      <td>0.644072</td>\n",
       "      <td>-0.081308</td>\n",
       "      <td>0</td>\n",
       "    </tr>\n",
       "  </tbody>\n",
       "</table>\n",
       "</div>"
      ],
      "text/plain": [
       "         V1        V2        V3  ...         V28    Amount  Class\n",
       "0 -0.677252 -0.042196  1.665517  ...   -0.066006  0.233169      0\n",
       "1  0.629606  0.161091  0.093503  ...    0.041547 -0.347092      0\n",
       "2 -0.676508 -0.802356  1.159302  ...   -0.182341  1.137702      0\n",
       "3 -0.475699 -0.109639  1.172425  ...    0.182036  0.130015      0\n",
       "4 -0.574014  0.527913  1.010389  ...    0.644072 -0.081308      0\n",
       "\n",
       "[5 rows x 30 columns]"
      ]
     },
     "execution_count": 10,
     "metadata": {},
     "output_type": "execute_result"
    }
   ],
   "source": [
    "data.head()"
   ]
  },
  {
   "cell_type": "markdown",
   "metadata": {
    "colab_type": "text",
    "id": "6QKzqZvpnivP"
   },
   "source": [
    "## 3.   Training and Testing Data Sets\n",
    "\n",
    "\n"
   ]
  },
  {
   "cell_type": "markdown",
   "metadata": {
    "colab_type": "text",
    "id": "GJQTY5PoveBh"
   },
   "source": [
    "**Splitting data into train and test data sets from start to avoid test leakage into train set**\n",
    "\n",
    "The test data set is going to be balanced with equal number of fraud and non-fraud transactions. "
   ]
  },
  {
   "cell_type": "markdown",
   "metadata": {
    "colab_type": "text",
    "id": "hELPOvDINp2T"
   },
   "source": [
    "### 3.1 Split Original Data Into Train and Test Data Sets\n",
    "\n",
    "The test data set  will be used to evaluate all classifiers. Splitting is done at the begining to avoid train test leakage.  "
   ]
  },
  {
   "cell_type": "code",
   "execution_count": 11,
   "metadata": {
    "colab": {},
    "colab_type": "code",
    "id": "aX_PnVR7-2qT"
   },
   "outputs": [],
   "source": [
    "'''Function input is dataframe with the features and labels\n",
    "output is \n",
    "1- balanced test dataset contains 50% of faudulent transactions and same number\n",
    "of non-fraudulent transactions\n",
    "2- original train dataset (imbalanced) with more non-fraudulent transactions\n",
    "'''\n",
    "\n",
    "def create_train_test_data(data):\n",
    "  data1_test=data[data['Class']==1]\n",
    "  _,data1_test=train_test_split(data1_test,test_size=0.5)\n",
    "  data0_test=data[data['Class']==0]\n",
    "  _,data0_test=train_test_split(data0_test,test_size=len(data1_test))\n",
    "  data_test=pd.concat([data1_test,data0_test])\n",
    "  data.drop(labels=data_test.index,inplace=True)\n",
    "  x_test=data_test.drop(labels='Class',axis=1)\n",
    "  y_test=data_test['Class']\n",
    "  #as numpy arrays\n",
    "  x_test=x_test.values\n",
    "  y_test=y_test.values\n",
    "  x_original=data.drop(labels='Class',axis=1)\n",
    "  y_original=data['Class']\n",
    "  #as numpy arrays\n",
    "  x_original=x_original.values\n",
    "  y_original=y_original.values\n",
    "  x_original,y_original=shuffle(x_original,y_original)\n",
    "  return x_original,y_original,x_test,y_test"
   ]
  },
  {
   "cell_type": "markdown",
   "metadata": {
    "colab_type": "text",
    "id": "qgFaq0xPKVwi"
   },
   "source": [
    "### 3.2 Helper function to create balanced dataset\n",
    "\n",
    "This function is used to create balanced train data set out of the original data set"
   ]
  },
  {
   "cell_type": "code",
   "execution_count": 12,
   "metadata": {
    "colab": {},
    "colab_type": "code",
    "id": "iRpkJHhsue0Q"
   },
   "outputs": [],
   "source": [
    "'''\n",
    "This function takes original train dataset and output another balanced train \n",
    "train data set with equal number of fraudulent and non-Fraudlent transactions.\n",
    "'''\n",
    " \n",
    "def create_balanced_data_set(x_original,y_original):\n",
    "  x_balanced=x_original\n",
    "  y_balanced=y_original\n",
    "  x0=x_original[y_original==0]\n",
    "  x1=x_original[y_original==1]\n",
    "  y0=y_original[y_original==0]\n",
    "  y1=y_original[y_original==1]\n",
    "  q=len(x0)//len(x1)-1\n",
    "  q=int(q)\n",
    "  r=len(x0)%len(x1)\n",
    "  #dum=np.tile(x1,(q,1))\n",
    "  x_balanced=np.concatenate((x_balanced,np.tile(x1,(q,1))))\n",
    "  y_balanced=np.concatenate((y_balanced,np.tile(y1,(q,))))\n",
    "  _,dumx,_,dumy=train_test_split(x1,y1,test_size=r)\n",
    "  x_balanced=np.concatenate((x_balanced,dumx))\n",
    "  y_balanced=np.concatenate((y_balanced,dumy))\n",
    "  x_balanced,y_balanced=shuffle(x_balanced,y_balanced)\n",
    "  return x_balanced,y_balanced"
   ]
  },
  {
   "cell_type": "markdown",
   "metadata": {
    "colab_type": "text",
    "id": "YTt6GS-IKe3-"
   },
   "source": [
    "### 3.3 Helper function to create imbalanced data set\n",
    "\n",
    "This function is used to create imbalanced train data set out of the original data set. the imbalanced train data set has more fraud transactions than non-fraud ones"
   ]
  },
  {
   "cell_type": "code",
   "execution_count": 13,
   "metadata": {
    "colab": {},
    "colab_type": "code",
    "id": "O2HWIsm7vLlK"
   },
   "outputs": [],
   "source": [
    "'''\n",
    "This function takes balanced input train dataset and output imbalanced train \n",
    "dataset with more fraudulent transactions than non-fraudlent ones \n",
    "(opposite of original dataset). \n",
    "'''\n",
    "\n",
    "def create_imbalanced_data_set(x_balanced,y_balanced,n):\n",
    "  x_imbalanced=x_balanced\n",
    "  y_imbalanced=y_balanced\n",
    "  x0=x_balanced[y_balanced==0]\n",
    "  x1=x_balanced[y_balanced==1]\n",
    "  y0=y_balanced[y_balanced==0]\n",
    "  y1=y_balanced[y_balanced==1]\n",
    "  x_imbalanced=np.concatenate((x_imbalanced,np.tile(x1,(n,1))))\n",
    "  y_imbalanced=np.concatenate((y_imbalanced,np.tile(y1,(n,))))\n",
    "  x_imbalanced,y_imbalanced=shuffle(x_imbalanced,y_imbalanced)\n",
    "  return x_imbalanced,y_imbalanced"
   ]
  },
  {
   "cell_type": "markdown",
   "metadata": {
    "colab_type": "text",
    "id": "CXiH7aPQo8kY"
   },
   "source": [
    "## 4.  MLP Functions"
   ]
  },
  {
   "cell_type": "markdown",
   "metadata": {
    "colab_type": "text",
    "id": "ivQV0GM9pD_H"
   },
   "source": [
    "### 4.1 Create MLP"
   ]
  },
  {
   "cell_type": "code",
   "execution_count": 14,
   "metadata": {
    "colab": {},
    "colab_type": "code",
    "id": "-WqjoEKZSYsD"
   },
   "outputs": [],
   "source": [
    "'''\n",
    "Function to create MLP neural network\n",
    "'''\n",
    "def create_MLP(input_s,output_s,hidden_layers,hidden_size,activation,dropout,learning_rate):\n",
    "    ml=[]\n",
    "    layers=[input_s]+hidden_size+[output_s]\n",
    "    dropout=[0.0]+dropout+[0.0]\n",
    "    activation=['']+activation+['']\n",
    "    ml.append(Dense(layers[1],input_shape=[input_s],activation=eval('tf.nn.'+activation[1])))\n",
    "    for i in range(2,len(layers)-1):\n",
    "        #print('tf.nn.'+activation[i])\n",
    "        ml.append(Dense(layers[i],activation=eval('tf.nn.'+activation[i])))\n",
    "    ml.append(Dense(layers[-1],activation=tf.nn.softmax))\n",
    "    print(ml)\n",
    "    model=tf.keras.models.Sequential(ml)\n",
    "    adam= optimizers.Adam(lr=learning_rate)\n",
    "    model.compile(optimizer='adam', loss='sparse_categorical_crossentropy',metrics=['accuracy'])\n",
    "    return model"
   ]
  },
  {
   "cell_type": "markdown",
   "metadata": {
    "colab_type": "text",
    "id": "jO6f3Rw9pIY0"
   },
   "source": [
    "### 4.2 Testing Model by Metric"
   ]
  },
  {
   "cell_type": "code",
   "execution_count": 15,
   "metadata": {
    "colab": {},
    "colab_type": "code",
    "id": "RYoP-BAxSYsI"
   },
   "outputs": [],
   "source": [
    "'''\n",
    "Test model performance over test/validation set by given metric\n",
    "'''\n",
    "def test_model_metric(model,features,labels,metric):\n",
    "    prob=model.predict(features,batch_size=len(features))\n",
    "    predictions=np.argmax(prob,axis=1)\n",
    "    met=metric(labels,predictions)\n",
    "    return met"
   ]
  },
  {
   "cell_type": "markdown",
   "metadata": {
    "colab_type": "text",
    "id": "x-pUtJWGpoPW"
   },
   "source": [
    "### 4.3 Training And Saving Model"
   ]
  },
  {
   "cell_type": "code",
   "execution_count": 16,
   "metadata": {
    "colab": {},
    "colab_type": "code",
    "id": "Sar63mBvtQUv"
   },
   "outputs": [],
   "source": [
    "'''\n",
    "Train MLP based on input train dataset. After each batch, the MLP is validated \n",
    "by test dataset. I use validation after each batch because the batch size is\n",
    "much greater than test dataset. So It is not necessary to wait for whole epoch\n",
    "training to validate. \n",
    "\n",
    "The function keeps track of the best performing model according to passed input metric\n",
    "and returns it at the end along with maximum metric achieved. \n",
    "\n",
    "'''\n",
    "def train_model_batch_metric(model,epochs,features_train,labels_train,\n",
    "                             features_valid,labels_valid,batch_size,\n",
    "                             metric_max,metric,silent=True):\n",
    "    backup_model=tf.keras.models.clone_model(model)\n",
    "    backup_model.set_weights(model.get_weights())\n",
    "    q=len(features_train)//batch_size\n",
    "    r=len(features_train)%batch_size\n",
    "    for i in range(epochs):\n",
    "      for j in range(q):\n",
    "        model.train_on_batch(features_train[j*batch_size:(j+1)*batch_size],labels_train[j*batch_size:(j+1)*batch_size],)\n",
    "        prob=model.predict(features_valid,batch_size=len(features_valid))\n",
    "        predictions=np.argmax(prob,axis=1)\n",
    "        met=metric(labels_valid,predictions)\n",
    "        if met>metric_max:\n",
    "          if(not silent):\n",
    "            print(f\"*************New Model Saved with correct f1 score of:{met:.5f}***************\")\n",
    "          backup_model.set_weights(model.get_weights())\n",
    "          metric_max= met\n",
    "      if(r>0):\n",
    "        model.train_on_batch(features_train[q*batch_size:],labels_train[q*batch_size:])\n",
    "        prob=model.predict(features_valid,batch_size=len(features_valid))\n",
    "        predictions=np.argmax(prob,axis=1)\n",
    "        met=metric(labels_valid,predictions)\n",
    "        if met>metric_max:\n",
    "          if(not silent):\n",
    "            print(f\"*************New Model Saved with correct f1 score of:{met:.5f}***************\")\n",
    "          backup_model.set_weights(model.get_weights())\n",
    "          metric_max= met\n",
    "    backup_model.compile(optimizer='adam', loss='sparse_categorical_crossentropy',metrics=['accuracy'])\n",
    "    return backup_model,metric_max"
   ]
  },
  {
   "cell_type": "markdown",
   "metadata": {
    "colab_type": "text",
    "id": "mWwVJH77KpVx"
   },
   "source": [
    "### 4.4 Create Model"
   ]
  },
  {
   "cell_type": "code",
   "execution_count": 17,
   "metadata": {
    "colab": {},
    "colab_type": "code",
    "id": "8bJlaThNK6GW"
   },
   "outputs": [],
   "source": [
    "'''\n",
    "Create MLP model based on given input\n",
    "'''\n",
    "def create_model(input_size, output_classes, hidden_layers, hidden_layers_size,activation, dropout,retrain,learning_rate,model_path):\n",
    "  if(retrain):\n",
    "    model = tf.keras.models.load_model(model_path)\n",
    "    import tensorflow.keras.backend as K\n",
    "    K.set_value(model.optimizer.lr, learning_rate)\n",
    "  else:\n",
    "    model=create_MLP(input_size,output_classes,hidden_layers,hidden_layers_size,activation,dropout,learning_rate)\n",
    "  return model"
   ]
  },
  {
   "cell_type": "markdown",
   "metadata": {
    "colab_type": "text",
    "id": "uqx32zvzyOKp"
   },
   "source": [
    "## 5. Model Parameters"
   ]
  },
  {
   "cell_type": "markdown",
   "metadata": {
    "colab_type": "text",
    "id": "rcKIvh7aowzH"
   },
   "source": [
    "### 5.1 Original Train Data Set Model\n",
    "\n"
   ]
  },
  {
   "cell_type": "code",
   "execution_count": 18,
   "metadata": {
    "colab": {},
    "colab_type": "code",
    "id": "y2NzcTz6SYr1"
   },
   "outputs": [],
   "source": [
    "#model parameters\n",
    "input_size=data.shape[1]-1\n",
    "output_classes=2\n",
    "hidden_layers=3\n",
    "hidden_layers_size=[200,200,50]\n",
    "activation=['tanh','tanh','tanh']\n",
    "dropout=[0.0,0.0,0.0]\n",
    "retrain=False\n",
    "learning_rate=0.00000000000000001\n",
    "# enter model path and file name where you want to load or save your new model\n",
    "o_model_path=\"set your own path\"\n",
    "o_model_par=(input_size, output_classes, hidden_layers, hidden_layers_size,activation, dropout,\n",
    "                     retrain,learning_rate,o_model_path)"
   ]
  },
  {
   "cell_type": "markdown",
   "metadata": {
    "colab_type": "text",
    "id": "55s5Q9vj2nzy"
   },
   "source": [
    "### 5.2 Balanced Train Data Set Model"
   ]
  },
  {
   "cell_type": "code",
   "execution_count": 19,
   "metadata": {
    "colab": {},
    "colab_type": "code",
    "id": "O2CL6RykdMLV"
   },
   "outputs": [],
   "source": [
    "#model parameters\n",
    "input_size=data.shape[1]-1\n",
    "output_classes=2\n",
    "hidden_layers=3\n",
    "hidden_layers_size=[200,200,50]\n",
    "activation=['tanh','tanh','tanh']\n",
    "dropout=[0.0,0.0,0.0]\n",
    "retrain=False\n",
    "learning_rate=0.00000000000000001\n",
    "# enter model path and file name where you want to load or save your new model\n",
    "b_model_path=\"set your own path\"\n",
    "b_model_par=(input_size, output_classes, hidden_layers, hidden_layers_size,activation, dropout,\n",
    "                     retrain,learning_rate,b_model_path)"
   ]
  },
  {
   "cell_type": "markdown",
   "metadata": {
    "colab_type": "text",
    "id": "1wM1Wa8-8K_M"
   },
   "source": [
    "### 5.3 Imbalanced Train Data Set Model"
   ]
  },
  {
   "cell_type": "code",
   "execution_count": 20,
   "metadata": {
    "colab": {},
    "colab_type": "code",
    "id": "UrKraWkvn6Sf"
   },
   "outputs": [],
   "source": [
    "#model parameters\n",
    "input_size=data.shape[1]-1\n",
    "output_classes=2\n",
    "hidden_layers=3\n",
    "hidden_layers_size=[200,200,50]\n",
    "activation=['tanh','tanh','tanh']\n",
    "dropout=[0.0,0.0,0.0]\n",
    "retrain=False\n",
    "learning_rate=0.00000000001\n",
    "# enter model path and file name where you want to load or save your new model\n",
    "im_model_path=\"set your own path\"\n",
    "im_model_par=(input_size, output_classes, hidden_layers, hidden_layers_size,activation, dropout,\n",
    "                     retrain,learning_rate,im_model_path)"
   ]
  },
  {
   "cell_type": "markdown",
   "metadata": {
    "colab_type": "text",
    "id": "uY2d8HhmLmwx"
   },
   "source": [
    "## 6. Training and Testing MLP Models\n",
    "\n",
    "This section is the core of the note book.  The steps of process are as follows:\n",
    "\n",
    "\n",
    "1.   Multiple balanced test data sets are  created\n",
    "2.   For each test data set, original, balanced, and imbalanced train data sets are created.\n",
    "3.   For each train data set, an MLP model is trained and validated over the test data set for a given metric\n",
    "4.   I used 4 metrics to run 4 training and testing experiments and models. The used metrics are F1 score, recall score, accuracy score, and area under ROC curve score. \n",
    "\n",
    "5.    For each metric, a report is printed to show the performance of validating over this metric for original, balanced, and imbalanced data sets. "
   ]
  },
  {
   "cell_type": "code",
   "execution_count": 21,
   "metadata": {
    "colab": {},
    "colab_type": "code",
    "id": "p3efLci9iE-P"
   },
   "outputs": [],
   "source": [
    "def run_show(data,o_model_par,b_model_par,im_model_par,\n",
    "             n_valid,epochs,batch_size,output,metric):\n",
    "  keys=list(output.keys())\n",
    "  keys.remove('Data')\n",
    "  for i in range(n_valid):\n",
    "    print(f\"Iteration {i+1} out of {n_valid}\")\n",
    "    x_original,y_original,x_test,y_test=create_train_test_data(data.copy())\n",
    "    x_balanced,y_balanced=create_balanced_data_set(x_original,y_original)\n",
    "    x_imbalanced,y_imbalanced=create_imbalanced_data_set(x_balanced, \n",
    "                                                         y_balanced, 5)\n",
    "    data_sets=[(x_original,y_original),(x_balanced,y_balanced),\n",
    "               (x_imbalanced,y_imbalanced)]\n",
    "    o_model=create_model(*o_model_par)\n",
    "    b_model=create_model(*b_model_par)\n",
    "    im_model=create_model(*im_model_par)\n",
    "    models=[o_model,b_model,im_model]\n",
    "    models_par=[o_model_par,b_model_par,im_model_par]\n",
    "    output['Data'].append(y_test)\n",
    "    for key,model,model_par,data_set in zip(keys,models,models_par,data_sets):\n",
    "      met_max=test_model_metric(model,*data_set,metric)\n",
    "      model,met_max=train_model_batch_metric(model,epochs,*data_set,x_test,\n",
    "                                             y_test,batch_size,met_max,metric)\n",
    "      predictions=model.predict(x_test,batch_size=len(x_test))\n",
    "      output[key].append(predictions)"
   ]
  },
  {
   "cell_type": "code",
   "execution_count": 22,
   "metadata": {
    "colab": {},
    "colab_type": "code",
    "id": "q_DoU1KI4krZ"
   },
   "outputs": [],
   "source": [
    "def calc_metrics(output):\n",
    "  Data=output['Data']\n",
    "  keys=list(output.keys())\n",
    "  keys.remove('Data')\n",
    "  results=dict()\n",
    "  for key in keys:\n",
    "    results[key]=list()\n",
    "  for it,data in enumerate(Data,start=0):\n",
    "    for key in keys:\n",
    "      pred=output[key][it]\n",
    "      pred=np.argmax(pred,axis=1)\n",
    "      acs=accuracy_score(data,pred)\n",
    "      fs=f1_score(data,pred)\n",
    "      rs=recall_score(data,pred)\n",
    "      rocs=roc_auc_score(data,pred)\n",
    "      fpr, tpr, th = roc_curve(data, pred)\n",
    "      conf=confusion_matrix(data,pred)\n",
    "      results[key].append([acs,fs,rs,conf,rocs,fpr,tpr,th])\n",
    "  return results\n",
    "      "
   ]
  },
  {
   "cell_type": "code",
   "execution_count": 23,
   "metadata": {
    "colab": {},
    "colab_type": "code",
    "id": "aaWrnkSAOYV0"
   },
   "outputs": [],
   "source": [
    "def print_report(results,metric):\n",
    "  print('-'*100)\n",
    "  print (str(metric.__name__))\n",
    "  print('-'*100)\n",
    "  f1_sc=[]\n",
    "  recall_sc=[]\n",
    "  accuracy_sc=[]\n",
    "  conf_matrix=[]\n",
    "  roc_sc=[]\n",
    "  for key in (results.keys()):\n",
    "    f1_sc.append([])\n",
    "    recall_sc.append([])\n",
    "    accuracy_sc.append([])\n",
    "    conf_matrix.append([])\n",
    "    roc_sc.append([])\n",
    "\n",
    "  for i,item in enumerate(list(results.keys()),start=0):\n",
    "    for j in range(len(results[item])):\n",
    "\n",
    "      f1_sc[i].append(results[item][j][1])\n",
    "      recall_sc[i].append(results[item][j][2])\n",
    "      accuracy_sc[i].append(results[item][j][0])\n",
    "      conf_matrix[i].append(results[item][j][3])\n",
    "      roc_sc[i].append(results[item][j][4])\n",
    "  for it,key in enumerate(results.keys(),start=0):\n",
    "    print('-'*100)\n",
    "    print (key+' Data')\n",
    "    print('-'*100)\n",
    "    print(f\"Average Accuracy Score: {np.mean(accuracy_sc[it])} +/- ({np.std(accuracy_sc[it])}) \")\n",
    "    print(f\"Average Recall Score: {np.mean(recall_sc[it])} +/- ({np.std(recall_sc[it])}) \")\n",
    "    print(f\"Average F1 Score: {np.mean(f1_sc[it])} +/- ({np.std(f1_sc[it])}) \")\n",
    "    print(f\"Average ROC_AUC Score: {np.mean(roc_sc[it])} +/- ({np.std(roc_sc[it])}) \")\n",
    "    f, ax = plt.subplots(figsize = (5,5))\n",
    "    sns.heatmap(np.sum(conf_matrix[it],axis=0), annot = True, linewidths = 0.5,\n",
    "                color = \"red\", fmt = \".0f\", ax=ax)\n",
    "    plt.xlabel(\"y_predicted\")\n",
    "    plt.ylabel(\"y_true\")\n",
    "    plt.title(\"Accumulated Confusion Matrix\")\n",
    "    plt.show()\n"
   ]
  },
  {
   "cell_type": "markdown",
   "metadata": {
    "colab_type": "text",
    "id": "hgfIGQEcDwJ5"
   },
   "source": [
    "10 test datasets and train each model for 10 epochs with batch size of 50000 samples. "
   ]
  },
  {
   "cell_type": "code",
   "execution_count": 24,
   "metadata": {
    "colab": {},
    "colab_type": "code",
    "id": "q1UB6p2Ydgb6"
   },
   "outputs": [],
   "source": [
    "validation_tests=10\n",
    "epochs=10\n",
    "batch_size=50000"
   ]
  },
  {
   "cell_type": "markdown",
   "metadata": {
    "colab_type": "text",
    "id": "TEoU3aCnEIsU"
   },
   "source": [
    "### 6.1 F1 Score"
   ]
  },
  {
   "cell_type": "code",
   "execution_count": 25,
   "metadata": {
    "colab": {},
    "colab_type": "code",
    "id": "5eey_KR2YE9U"
   },
   "outputs": [],
   "source": [
    "metric=f1_score"
   ]
  },
  {
   "cell_type": "code",
   "execution_count": 26,
   "metadata": {
    "_kg_hide-input": false,
    "colab": {},
    "colab_type": "code",
    "id": "orox0uj-eSR0"
   },
   "outputs": [
    {
     "name": "stdout",
     "output_type": "stream",
     "text": [
      "Iteration 1 out of 10\n",
      "[<tensorflow.python.keras.layers.core.Dense object at 0x7f20224eccc0>, <tensorflow.python.keras.layers.core.Dense object at 0x7f20224ec1d0>, <tensorflow.python.keras.layers.core.Dense object at 0x7f20224e4940>, <tensorflow.python.keras.layers.core.Dense object at 0x7f20224e4ef0>]\n",
      "WARNING:tensorflow:From /opt/conda/lib/python3.6/site-packages/tensorflow/python/ops/resource_variable_ops.py:435: colocate_with (from tensorflow.python.framework.ops) is deprecated and will be removed in a future version.\n",
      "Instructions for updating:\n",
      "Colocations handled automatically by placer.\n",
      "[<tensorflow.python.keras.layers.core.Dense object at 0x7f20224e4cf8>, <tensorflow.python.keras.layers.core.Dense object at 0x7f202239e860>, <tensorflow.python.keras.layers.core.Dense object at 0x7f20221fe128>, <tensorflow.python.keras.layers.core.Dense object at 0x7f2022214ac8>]\n",
      "[<tensorflow.python.keras.layers.core.Dense object at 0x7f2022214dd8>, <tensorflow.python.keras.layers.core.Dense object at 0x7f20220bbc50>, <tensorflow.python.keras.layers.core.Dense object at 0x7f2021375080>, <tensorflow.python.keras.layers.core.Dense object at 0x7f2021311d30>]\n",
      "Iteration 2 out of 10\n",
      "[<tensorflow.python.keras.layers.core.Dense object at 0x7f20085770b8>, <tensorflow.python.keras.layers.core.Dense object at 0x7f20083a3ac8>, <tensorflow.python.keras.layers.core.Dense object at 0x7f20083a3ba8>, <tensorflow.python.keras.layers.core.Dense object at 0x7f20083a3cc0>]\n",
      "[<tensorflow.python.keras.layers.core.Dense object at 0x7f20083a3ef0>, <tensorflow.python.keras.layers.core.Dense object at 0x7f2021faf860>, <tensorflow.python.keras.layers.core.Dense object at 0x7f2021e5ff60>, <tensorflow.python.keras.layers.core.Dense object at 0x7f2021e0c828>]\n",
      "[<tensorflow.python.keras.layers.core.Dense object at 0x7f2021dcabe0>, <tensorflow.python.keras.layers.core.Dense object at 0x7f2021d0dc18>, <tensorflow.python.keras.layers.core.Dense object at 0x7f2013746f60>, <tensorflow.python.keras.layers.core.Dense object at 0x7f201376edd8>]\n",
      "Iteration 3 out of 10\n",
      "[<tensorflow.python.keras.layers.core.Dense object at 0x7f2011efaef0>, <tensorflow.python.keras.layers.core.Dense object at 0x7f2011ee8208>, <tensorflow.python.keras.layers.core.Dense object at 0x7f2011ee8a20>, <tensorflow.python.keras.layers.core.Dense object at 0x7f2011ee8ba8>]\n",
      "[<tensorflow.python.keras.layers.core.Dense object at 0x7f2011ee8dd8>, <tensorflow.python.keras.layers.core.Dense object at 0x7f2011dc57f0>, <tensorflow.python.keras.layers.core.Dense object at 0x7f2011c79c88>, <tensorflow.python.keras.layers.core.Dense object at 0x7f2011ca2588>]\n",
      "[<tensorflow.python.keras.layers.core.Dense object at 0x7f2011c42400>, <tensorflow.python.keras.layers.core.Dense object at 0x7f2011b85e48>, <tensorflow.python.keras.layers.core.Dense object at 0x7f2011a609b0>, <tensorflow.python.keras.layers.core.Dense object at 0x7f2011a0b198>]\n",
      "Iteration 4 out of 10\n",
      "[<tensorflow.python.keras.layers.core.Dense object at 0x7f20101e3eb8>, <tensorflow.python.keras.layers.core.Dense object at 0x7f2010186748>, <tensorflow.python.keras.layers.core.Dense object at 0x7f20101867f0>, <tensorflow.python.keras.layers.core.Dense object at 0x7f2010186908>]\n",
      "[<tensorflow.python.keras.layers.core.Dense object at 0x7f2010186b38>, <tensorflow.python.keras.layers.core.Dense object at 0x7f20101279b0>, <tensorflow.python.keras.layers.core.Dense object at 0x7f200ff9d908>, <tensorflow.python.keras.layers.core.Dense object at 0x7f200ff48320>]\n",
      "[<tensorflow.python.keras.layers.core.Dense object at 0x7f200ff9d358>, <tensorflow.python.keras.layers.core.Dense object at 0x7f200feabf98>, <tensorflow.python.keras.layers.core.Dense object at 0x7f200fd07668>, <tensorflow.python.keras.layers.core.Dense object at 0x7f200fd30e48>]\n",
      "Iteration 5 out of 10\n",
      "[<tensorflow.python.keras.layers.core.Dense object at 0x7f200e489390>, <tensorflow.python.keras.layers.core.Dense object at 0x7f200e4aa400>, <tensorflow.python.keras.layers.core.Dense object at 0x7f200e4aa518>, <tensorflow.python.keras.layers.core.Dense object at 0x7f200e4aa630>]\n",
      "[<tensorflow.python.keras.layers.core.Dense object at 0x7f200e403b38>, <tensorflow.python.keras.layers.core.Dense object at 0x7f200e3eaa90>, <tensorflow.python.keras.layers.core.Dense object at 0x7f200e2425f8>, <tensorflow.python.keras.layers.core.Dense object at 0x7f200e26dd68>]\n",
      "[<tensorflow.python.keras.layers.core.Dense object at 0x7f200e2120b8>, <tensorflow.python.keras.layers.core.Dense object at 0x7f200e1558d0>, <tensorflow.python.keras.layers.core.Dense object at 0x7f200e034358>, <tensorflow.python.keras.layers.core.Dense object at 0x7f200dfd0e48>]\n",
      "Iteration 6 out of 10\n",
      "[<tensorflow.python.keras.layers.core.Dense object at 0x7f200c7cac50>, <tensorflow.python.keras.layers.core.Dense object at 0x7f200c7b89e8>, <tensorflow.python.keras.layers.core.Dense object at 0x7f200c7b8a90>, <tensorflow.python.keras.layers.core.Dense object at 0x7f200c7b8ba8>]\n",
      "[<tensorflow.python.keras.layers.core.Dense object at 0x7f200c7b8dd8>, <tensorflow.python.keras.layers.core.Dense object at 0x7f200c6a2710>, <tensorflow.python.keras.layers.core.Dense object at 0x7f200c54eba8>, <tensorflow.python.keras.layers.core.Dense object at 0x7f200c5745f8>]\n",
      "[<tensorflow.python.keras.layers.core.Dense object at 0x7f200c54e5f8>, <tensorflow.python.keras.layers.core.Dense object at 0x7f200c459d68>, <tensorflow.python.keras.layers.core.Dense object at 0x7f200c3358d0>, <tensorflow.python.keras.layers.core.Dense object at 0x7f200c2df2e8>]\n",
      "Iteration 7 out of 10\n",
      "[<tensorflow.python.keras.layers.core.Dense object at 0x7f200703c1d0>, <tensorflow.python.keras.layers.core.Dense object at 0x7f2006fff908>, <tensorflow.python.keras.layers.core.Dense object at 0x7f2006fffa90>, <tensorflow.python.keras.layers.core.Dense object at 0x7f2006fffba8>]\n",
      "[<tensorflow.python.keras.layers.core.Dense object at 0x7f2006fb4c88>, <tensorflow.python.keras.layers.core.Dense object at 0x7f200c8e26d8>, <tensorflow.python.keras.layers.core.Dense object at 0x7f2006decba8>, <tensorflow.python.keras.layers.core.Dense object at 0x7f2006d934a8>]\n",
      "[<tensorflow.python.keras.layers.core.Dense object at 0x7f2006daf898>, <tensorflow.python.keras.layers.core.Dense object at 0x7f2006d0d208>, <tensorflow.python.keras.layers.core.Dense object at 0x7f2006b51b70>, <tensorflow.python.keras.layers.core.Dense object at 0x7f2006b13c88>]\n",
      "Iteration 8 out of 10\n",
      "[<tensorflow.python.keras.layers.core.Dense object at 0x7f2005289dd8>, <tensorflow.python.keras.layers.core.Dense object at 0x7f2005289978>, <tensorflow.python.keras.layers.core.Dense object at 0x7f2005289fd0>, <tensorflow.python.keras.layers.core.Dense object at 0x7f20052aa128>]\n",
      "[<tensorflow.python.keras.layers.core.Dense object at 0x7f20052bbc18>, <tensorflow.python.keras.layers.core.Dense object at 0x7f20051ee6a0>, <tensorflow.python.keras.layers.core.Dense object at 0x7f20050abb38>, <tensorflow.python.keras.layers.core.Dense object at 0x7f2005053cf8>]\n",
      "[<tensorflow.python.keras.layers.core.Dense object at 0x7f200506e828>, <tensorflow.python.keras.layers.core.Dense object at 0x7f2004fb3fd0>, <tensorflow.python.keras.layers.core.Dense object at 0x7f2004e0ce48>, <tensorflow.python.keras.layers.core.Dense object at 0x7f2004e35748>]\n",
      "Iteration 9 out of 10\n",
      "[<tensorflow.python.keras.layers.core.Dense object at 0x7f2003602fd0>, <tensorflow.python.keras.layers.core.Dense object at 0x7f20036020f0>, <tensorflow.python.keras.layers.core.Dense object at 0x7f20035a0240>, <tensorflow.python.keras.layers.core.Dense object at 0x7f20035a0358>]\n",
      "[<tensorflow.python.keras.layers.core.Dense object at 0x7f200351e860>, <tensorflow.python.keras.layers.core.Dense object at 0x7f2003707ac8>, <tensorflow.python.keras.layers.core.Dense object at 0x7f20033c3358>, <tensorflow.python.keras.layers.core.Dense object at 0x7f200335ee48>]\n",
      "[<tensorflow.python.keras.layers.core.Dense object at 0x7f200335ea58>, <tensorflow.python.keras.layers.core.Dense object at 0x7f2003316cf8>, <tensorflow.python.keras.layers.core.Dense object at 0x7f2003184a90>, <tensorflow.python.keras.layers.core.Dense object at 0x7f200312dc50>]\n",
      "Iteration 10 out of 10\n",
      "[<tensorflow.python.keras.layers.core.Dense object at 0x7f20018bc3c8>, <tensorflow.python.keras.layers.core.Dense object at 0x7f20018bca90>, <tensorflow.python.keras.layers.core.Dense object at 0x7f200185b1d0>, <tensorflow.python.keras.layers.core.Dense object at 0x7f200185b2e8>]\n",
      "[<tensorflow.python.keras.layers.core.Dense object at 0x7f20017d78d0>, <tensorflow.python.keras.layers.core.Dense object at 0x7f20017c0d68>, <tensorflow.python.keras.layers.core.Dense object at 0x7f2001680320>, <tensorflow.python.keras.layers.core.Dense object at 0x7f200161ee10>]\n",
      "[<tensorflow.python.keras.layers.core.Dense object at 0x7f200161ea20>, <tensorflow.python.keras.layers.core.Dense object at 0x7f20015d3cf8>, <tensorflow.python.keras.layers.core.Dense object at 0x7f2001440ac8>, <tensorflow.python.keras.layers.core.Dense object at 0x7f20013e6c88>]\n"
     ]
    }
   ],
   "source": [
    "output={'Original':[],'Balanced':[],'Imbalanced':[],'Data':[]}\n",
    "run_show(data,o_model_par,b_model_par,im_model_par,validation_tests,\n",
    "         epochs,batch_size,output,metric)"
   ]
  },
  {
   "cell_type": "code",
   "execution_count": 27,
   "metadata": {
    "colab": {},
    "colab_type": "code",
    "id": "uvqRH2x68xTM"
   },
   "outputs": [],
   "source": [
    "results=calc_metrics(output)"
   ]
  },
  {
   "cell_type": "code",
   "execution_count": 28,
   "metadata": {
    "colab": {
     "base_uri": "https://localhost:8080/",
     "height": 1429
    },
    "colab_type": "code",
    "id": "7gpqbtH2AFHH",
    "outputId": "173be540-5375-497c-9926-e30b93fad03f"
   },
   "outputs": [
    {
     "name": "stdout",
     "output_type": "stream",
     "text": [
      "----------------------------------------------------------------------------------------------------\n",
      "f1_score\n",
      "----------------------------------------------------------------------------------------------------\n",
      "----------------------------------------------------------------------------------------------------\n",
      "Original Data\n",
      "----------------------------------------------------------------------------------------------------\n",
      "Average Accuracy Score: 0.8947257383966244 +/- (0.01206227203284626) \n",
      "Average Recall Score: 0.8080168776371309 +/- (0.01581575089788296) \n",
      "Average F1 Score: 0.884737666540593 +/- (0.012979000952203367) \n",
      "Average ROC_AUC Score: 0.8947257383966244 +/- (0.012062272032846271) \n"
     ]
    },
    {
     "data": {
      "image/png": "[encoded data removed]",
      "text/plain": [
       "<Figure size 360x360 with 2 Axes>"
      ]
     },
     "metadata": {},
     "output_type": "display_data"
    },
    {
     "name": "stdout",
     "output_type": "stream",
     "text": [
      "----------------------------------------------------------------------------------------------------\n",
      "Balanced Data\n",
      "----------------------------------------------------------------------------------------------------\n",
      "Average Accuracy Score: 0.9394514767932488 +/- (0.01393203964649708) \n",
      "Average Recall Score: 0.9050632911392406 +/- (0.02210664455262405) \n",
      "Average F1 Score: 0.9372115073261036 +/- (0.014777835302131292) \n",
      "Average ROC_AUC Score: 0.9394514767932488 +/- (0.013932039646497103) \n"
     ]
    },
    {
     "data": {
      "image/png": "[encoded data removed]",
      "text/plain": [
       "<Figure size 360x360 with 2 Axes>"
      ]
     },
     "metadata": {},
     "output_type": "display_data"
    },
    {
     "name": "stdout",
     "output_type": "stream",
     "text": [
      "----------------------------------------------------------------------------------------------------\n",
      "Imbalanced Data\n",
      "----------------------------------------------------------------------------------------------------\n",
      "Average Accuracy Score: 0.9132911392405063 +/- (0.07669262429532299) \n",
      "Average Recall Score: 0.9177215189873417 +/- (0.027876855120943334) \n",
      "Average F1 Score: 0.9170636032718844 +/- (0.06275943798396386) \n",
      "Average ROC_AUC Score: 0.9132911392405063 +/- (0.07669262429532303) \n"
     ]
    },
    {
     "data": {
      "image/png": "[encoded data removed]",
      "text/plain": [
       "<Figure size 360x360 with 2 Axes>"
      ]
     },
     "metadata": {},
     "output_type": "display_data"
    }
   ],
   "source": [
    "print_report(results,metric)"
   ]
  },
  {
   "cell_type": "markdown",
   "metadata": {
    "colab_type": "text",
    "id": "gUKXSRYtEcKT"
   },
   "source": [
    "### 6.2 Recall  Score"
   ]
  },
  {
   "cell_type": "code",
   "execution_count": 29,
   "metadata": {
    "colab": {},
    "colab_type": "code",
    "id": "sUWoIxfUujFv"
   },
   "outputs": [],
   "source": [
    "metric=recall_score"
   ]
  },
  {
   "cell_type": "code",
   "execution_count": 30,
   "metadata": {
    "colab": {},
    "colab_type": "code",
    "id": "7BqsCN2DX5IB"
   },
   "outputs": [
    {
     "name": "stdout",
     "output_type": "stream",
     "text": [
      "Iteration 1 out of 10\n",
      "[<tensorflow.python.keras.layers.core.Dense object at 0x7f1fd2c6ca20>, <tensorflow.python.keras.layers.core.Dense object at 0x7f1fd2c6ca58>, <tensorflow.python.keras.layers.core.Dense object at 0x7f1fd2c6cb70>, <tensorflow.python.keras.layers.core.Dense object at 0x7f1fd2c6cc88>]\n",
      "[<tensorflow.python.keras.layers.core.Dense object at 0x7f1fd2c6ceb8>, <tensorflow.python.keras.layers.core.Dense object at 0x7f1fd2c21e80>, <tensorflow.python.keras.layers.core.Dense object at 0x7f1fd2a77da0>, <tensorflow.python.keras.layers.core.Dense object at 0x7f1fd2a9f710>]\n",
      "[<tensorflow.python.keras.layers.core.Dense object at 0x7f1fd2a777f0>, <tensorflow.python.keras.layers.core.Dense object at 0x7f1fd29237b8>, <tensorflow.python.keras.layers.core.Dense object at 0x7f1fd2859cf8>, <tensorflow.python.keras.layers.core.Dense object at 0x7f1fd28015f8>]\n",
      "Iteration 2 out of 10\n",
      "[<tensorflow.python.keras.layers.core.Dense object at 0x7f1fd09109b0>, <tensorflow.python.keras.layers.core.Dense object at 0x7f1fd0725470>, <tensorflow.python.keras.layers.core.Dense object at 0x7f1fd0725748>, <tensorflow.python.keras.layers.core.Dense object at 0x7f1fd0725860>]\n",
      "[<tensorflow.python.keras.layers.core.Dense object at 0x7f1fd06a3d30>, <tensorflow.python.keras.layers.core.Dense object at 0x7f1fd068be10>, <tensorflow.python.keras.layers.core.Dense object at 0x7f1fd0538828>, <tensorflow.python.keras.layers.core.Dense object at 0x7f1fd04e6710>]\n",
      "[<tensorflow.python.keras.layers.core.Dense object at 0x7f1fd050c048>, <tensorflow.python.keras.layers.core.Dense object at 0x7f1fd042c240>, <tensorflow.python.keras.layers.core.Dense object at 0x7f1fd02b2518>, <tensorflow.python.keras.layers.core.Dense object at 0x7f1fd02cdeb8>]\n",
      "Iteration 3 out of 10\n",
      "[<tensorflow.python.keras.layers.core.Dense object at 0x7f1fcea48b70>, <tensorflow.python.keras.layers.core.Dense object at 0x7f1fcea48c50>, <tensorflow.python.keras.layers.core.Dense object at 0x7f1fce9ec0b8>, <tensorflow.python.keras.layers.core.Dense object at 0x7f1fce9ec1d0>]\n",
      "[<tensorflow.python.keras.layers.core.Dense object at 0x7f1fce9ec400>, <tensorflow.python.keras.layers.core.Dense object at 0x7f1fce92def0>, <tensorflow.python.keras.layers.core.Dense object at 0x7f1fce7ecf60>, <tensorflow.python.keras.layers.core.Dense object at 0x7f1fce8124e0>]\n",
      "[<tensorflow.python.keras.layers.core.Dense object at 0x7f1fce7ae8d0>, <tensorflow.python.keras.layers.core.Dense object at 0x7f1fce7173c8>, <tensorflow.python.keras.layers.core.Dense object at 0x7f1fce5d0e80>, <tensorflow.python.keras.layers.core.Dense object at 0x7f1fce5787f0>]\n",
      "Iteration 4 out of 10\n",
      "[<tensorflow.python.keras.layers.core.Dense object at 0x7f1fcd04e860>, <tensorflow.python.keras.layers.core.Dense object at 0x7f1fcced54a8>, <tensorflow.python.keras.layers.core.Dense object at 0x7f1fcced5588>, <tensorflow.python.keras.layers.core.Dense object at 0x7f1fcced56a0>]\n",
      "[<tensorflow.python.keras.layers.core.Dense object at 0x7f1fcced58d0>, <tensorflow.python.keras.layers.core.Dense object at 0x7f1fccdb99b0>, <tensorflow.python.keras.layers.core.Dense object at 0x7f1fccc6c668>, <tensorflow.python.keras.layers.core.Dense object at 0x7f1fccc96e48>]\n",
      "[<tensorflow.python.keras.layers.core.Dense object at 0x7f1fccc3b080>, <tensorflow.python.keras.layers.core.Dense object at 0x7f1fccb7bc88>, <tensorflow.python.keras.layers.core.Dense object at 0x7f1fcca5c358>, <tensorflow.python.keras.layers.core.Dense object at 0x7f1fcc9f7e48>]\n",
      "Iteration 5 out of 10\n",
      "[<tensorflow.python.keras.layers.core.Dense object at 0x7f1fcb3454e0>, <tensorflow.python.keras.layers.core.Dense object at 0x7f1fcb1df128>, <tensorflow.python.keras.layers.core.Dense object at 0x7f1fcb1dfb70>, <tensorflow.python.keras.layers.core.Dense object at 0x7f1fcb185080>]\n",
      "[<tensorflow.python.keras.layers.core.Dense object at 0x7f1fcb1852b0>, <tensorflow.python.keras.layers.core.Dense object at 0x7f1fcb0c65f8>, <tensorflow.python.keras.layers.core.Dense object at 0x7f1fcaf7cac8>, <tensorflow.python.keras.layers.core.Dense object at 0x7f1fcaf28c88>]\n",
      "[<tensorflow.python.keras.layers.core.Dense object at 0x7f1fcaf467b8>, <tensorflow.python.keras.layers.core.Dense object at 0x7f1fcae2aac8>, <tensorflow.python.keras.layers.core.Dense object at 0x7f1fcace8d68>, <tensorflow.python.keras.layers.core.Dense object at 0x7f1fcad11668>]\n",
      "Iteration 6 out of 10\n",
      "[<tensorflow.python.keras.layers.core.Dense object at 0x7f1fc9485ba8>, <tensorflow.python.keras.layers.core.Dense object at 0x7f1fc942a4e0>, <tensorflow.python.keras.layers.core.Dense object at 0x7f1fc942a5c0>, <tensorflow.python.keras.layers.core.Dense object at 0x7f1fc942aa90>]\n",
      "[<tensorflow.python.keras.layers.core.Dense object at 0x7f1fc942acc0>, <tensorflow.python.keras.layers.core.Dense object at 0x7f1fc936ccc0>, <tensorflow.python.keras.layers.core.Dense object at 0x7f1fc9246ac8>, <tensorflow.python.keras.layers.core.Dense object at 0x7f1fc91ee518>]\n",
      "[<tensorflow.python.keras.layers.core.Dense object at 0x7f1fc9212240>, <tensorflow.python.keras.layers.core.Dense object at 0x7f1fc9153f28>, <tensorflow.python.keras.layers.core.Dense object at 0x7f1fc8fab7f0>, <tensorflow.python.keras.layers.core.Dense object at 0x7f1fc8fd46d8>]\n",
      "Iteration 7 out of 10\n",
      "[<tensorflow.python.keras.layers.core.Dense object at 0x7f1fc79195f8>, <tensorflow.python.keras.layers.core.Dense object at 0x7f1fc778f780>, <tensorflow.python.keras.layers.core.Dense object at 0x7f1fc778fa58>, <tensorflow.python.keras.layers.core.Dense object at 0x7f1fc778fb70>]\n",
      "[<tensorflow.python.keras.layers.core.Dense object at 0x7f1fc778fda0>, <tensorflow.python.keras.layers.core.Dense object at 0x7f1fc773e8d0>, <tensorflow.python.keras.layers.core.Dense object at 0x7f1fc759bb00>, <tensorflow.python.keras.layers.core.Dense object at 0x7f1fc7544550>]\n",
      "[<tensorflow.python.keras.layers.core.Dense object at 0x7f1fc759b550>, <tensorflow.python.keras.layers.core.Dense object at 0x7f1fc7427f28>, <tensorflow.python.keras.layers.core.Dense object at 0x7f1fc73007f0>, <tensorflow.python.keras.layers.core.Dense object at 0x7f1fc72aa828>]\n",
      "Iteration 8 out of 10\n",
      "[<tensorflow.python.keras.layers.core.Dense object at 0x7f1fc5a28e80>, <tensorflow.python.keras.layers.core.Dense object at 0x7f1fc5bbcef0>, <tensorflow.python.keras.layers.core.Dense object at 0x7f1fc5a471d0>, <tensorflow.python.keras.layers.core.Dense object at 0x7f1fc5a47470>]\n",
      "[<tensorflow.python.keras.layers.core.Dense object at 0x7f1fc5a476a0>, <tensorflow.python.keras.layers.core.Dense object at 0x7f1fc5966208>, <tensorflow.python.keras.layers.core.Dense object at 0x7f1fc57f0518>, <tensorflow.python.keras.layers.core.Dense object at 0x7f1fc580ae80>]\n",
      "[<tensorflow.python.keras.layers.core.Dense object at 0x7f1fc580ab70>, <tensorflow.python.keras.layers.core.Dense object at 0x7f1fc56f3eb8>, <tensorflow.python.keras.layers.core.Dense object at 0x7f1fc55b2da0>, <tensorflow.python.keras.layers.core.Dense object at 0x7f1fc55dacf8>]\n",
      "Iteration 9 out of 10\n",
      "[<tensorflow.python.keras.layers.core.Dense object at 0x7f1fc3d532b0>, <tensorflow.python.keras.layers.core.Dense object at 0x7f1fc3cfb048>, <tensorflow.python.keras.layers.core.Dense object at 0x7f1fc3cfb860>, <tensorflow.python.keras.layers.core.Dense object at 0x7f1fc3cfbd30>]\n",
      "[<tensorflow.python.keras.layers.core.Dense object at 0x7f1fc3cfbf60>, <tensorflow.python.keras.layers.core.Dense object at 0x7f1fc3bff4e0>, <tensorflow.python.keras.layers.core.Dense object at 0x7f1fc3b10dd8>, <tensorflow.python.keras.layers.core.Dense object at 0x7f1fc3aba128>]\n",
      "[<tensorflow.python.keras.layers.core.Dense object at 0x7f1fc3b10a20>, <tensorflow.python.keras.layers.core.Dense object at 0x7f1fc3a1cf60>, <tensorflow.python.keras.layers.core.Dense object at 0x7f1fc387ca90>, <tensorflow.python.keras.layers.core.Dense object at 0x7f1fc38214e0>]\n",
      "Iteration 10 out of 10\n",
      "[<tensorflow.python.keras.layers.core.Dense object at 0x7f1fc21224a8>, <tensorflow.python.keras.layers.core.Dense object at 0x7f1fc201dcc0>, <tensorflow.python.keras.layers.core.Dense object at 0x7f1fc1fc40f0>, <tensorflow.python.keras.layers.core.Dense object at 0x7f1fc1fc45c0>]\n",
      "[<tensorflow.python.keras.layers.core.Dense object at 0x7f1fc1fc47f0>, <tensorflow.python.keras.layers.core.Dense object at 0x7f1fc1ee36d8>, <tensorflow.python.keras.layers.core.Dense object at 0x7f1fc1d6d668>, <tensorflow.python.keras.layers.core.Dense object at 0x7f1fc1d86e10>]\n",
      "[<tensorflow.python.keras.layers.core.Dense object at 0x7f1fc1d2b048>, <tensorflow.python.keras.layers.core.Dense object at 0x7f1fc1c6e7b8>, <tensorflow.python.keras.layers.core.Dense object at 0x7f1fc1b53320>, <tensorflow.python.keras.layers.core.Dense object at 0x7f1fc1b535c0>]\n"
     ]
    }
   ],
   "source": [
    "output={'Original':[],'Balanced':[],'Imbalanced':[],'Data':[]}\n",
    "run_show(data,o_model_par,b_model_par,im_model_par,validation_tests,epochs,\n",
    "         batch_size,output,metric)"
   ]
  },
  {
   "cell_type": "code",
   "execution_count": 31,
   "metadata": {
    "colab": {},
    "colab_type": "code",
    "id": "PUqeqIshc8zK"
   },
   "outputs": [],
   "source": [
    "results=calc_metrics(output)"
   ]
  },
  {
   "cell_type": "code",
   "execution_count": 32,
   "metadata": {
    "colab": {
     "base_uri": "https://localhost:8080/",
     "height": 1429
    },
    "colab_type": "code",
    "id": "bPfvaHCMc8zM",
    "outputId": "d8eb5827-cc7c-4389-e1cb-672d761a8fd3"
   },
   "outputs": [
    {
     "name": "stdout",
     "output_type": "stream",
     "text": [
      "----------------------------------------------------------------------------------------------------\n",
      "recall_score\n",
      "----------------------------------------------------------------------------------------------------\n",
      "----------------------------------------------------------------------------------------------------\n",
      "Original Data\n",
      "----------------------------------------------------------------------------------------------------\n",
      "Average Accuracy Score: 0.8272151898734176 +/- (0.039922502326728365) \n",
      "Average Recall Score: 0.8717299578059071 +/- (0.02912309523499983) \n",
      "Average F1 Score: 0.8361009669884734 +/- (0.027644495804344547) \n",
      "Average ROC_AUC Score: 0.8272151898734176 +/- (0.03992250232672833) \n"
     ]
    },
    {
     "data": {
      "image/png": "[encoded data removed]",
      "text/plain": [
       "<Figure size 360x360 with 2 Axes>"
      ]
     },
     "metadata": {},
     "output_type": "display_data"
    },
    {
     "name": "stdout",
     "output_type": "stream",
     "text": [
      "----------------------------------------------------------------------------------------------------\n",
      "Balanced Data\n",
      "----------------------------------------------------------------------------------------------------\n",
      "Average Accuracy Score: 0.8428270042194093 +/- (0.0423861662031727) \n",
      "Average Recall Score: 0.9683544303797469 +/- (0.008900853632797042) \n",
      "Average F1 Score: 0.8615949863495065 +/- (0.0315234476898031) \n",
      "Average ROC_AUC Score: 0.8428270042194093 +/- (0.042386166203172725) \n"
     ]
    },
    {
     "data": {
      "image/png": "[encoded data removed]",
      "text/plain": [
       "<Figure size 360x360 with 2 Axes>"
      ]
     },
     "metadata": {},
     "output_type": "display_data"
    },
    {
     "name": "stdout",
     "output_type": "stream",
     "text": [
      "----------------------------------------------------------------------------------------------------\n",
      "Imbalanced Data\n",
      "----------------------------------------------------------------------------------------------------\n",
      "Average Accuracy Score: 0.7784810126582278 +/- (0.035112483074036374) \n",
      "Average Recall Score: 0.9831223628691983 +/- (0.0065366807530927) \n",
      "Average F1 Score: 0.8168059459397344 +/- (0.023929257471915922) \n",
      "Average ROC_AUC Score: 0.7784810126582278 +/- (0.03511248307403636) \n"
     ]
    },
    {
     "data": {
      "image/png": "[encoded data removed]",
      "text/plain": [
       "<Figure size 360x360 with 2 Axes>"
      ]
     },
     "metadata": {},
     "output_type": "display_data"
    }
   ],
   "source": [
    "print_report(results,metric)"
   ]
  },
  {
   "cell_type": "markdown",
   "metadata": {
    "colab_type": "text",
    "id": "FA3pNQK1ErdE"
   },
   "source": [
    "### 6.3 Accuracy Score"
   ]
  },
  {
   "cell_type": "code",
   "execution_count": 33,
   "metadata": {
    "colab": {},
    "colab_type": "code",
    "id": "dmnT_0EGyUAq"
   },
   "outputs": [],
   "source": [
    "metric=accuracy_score"
   ]
  },
  {
   "cell_type": "code",
   "execution_count": 34,
   "metadata": {
    "colab": {},
    "colab_type": "code",
    "id": "_1lQoMTyyUAy"
   },
   "outputs": [
    {
     "name": "stdout",
     "output_type": "stream",
     "text": [
      "Iteration 1 out of 10\n",
      "[<tensorflow.python.keras.layers.core.Dense object at 0x7f1fc018c3c8>, <tensorflow.python.keras.layers.core.Dense object at 0x7f1fc018c400>, <tensorflow.python.keras.layers.core.Dense object at 0x7f1fc018c518>, <tensorflow.python.keras.layers.core.Dense object at 0x7f1fc018c630>]\n",
      "[<tensorflow.python.keras.layers.core.Dense object at 0x7f1fc018c860>, <tensorflow.python.keras.layers.core.Dense object at 0x7f1fc00bdb00>, <tensorflow.python.keras.layers.core.Dense object at 0x7f1fbff8c710>, <tensorflow.python.keras.layers.core.Dense object at 0x7f1fbff36438>]\n",
      "[<tensorflow.python.keras.layers.core.Dense object at 0x7f1fbff5d048>, <tensorflow.python.keras.layers.core.Dense object at 0x7f1fbfe76240>, <tensorflow.python.keras.layers.core.Dense object at 0x7f1fbfcf95c0>, <tensorflow.python.keras.layers.core.Dense object at 0x7f1fbfd13908>]\n",
      "Iteration 2 out of 10\n",
      "[<tensorflow.python.keras.layers.core.Dense object at 0x7f1fbe494c18>, <tensorflow.python.keras.layers.core.Dense object at 0x7f1fbe494a20>, <tensorflow.python.keras.layers.core.Dense object at 0x7f1fbe494d68>, <tensorflow.python.keras.layers.core.Dense object at 0x7f1fbe494e80>]\n",
      "[<tensorflow.python.keras.layers.core.Dense object at 0x7f1fbe4390f0>, <tensorflow.python.keras.layers.core.Dense object at 0x7f1fbe37a400>, <tensorflow.python.keras.layers.core.Dense object at 0x7f1fbe237e48>, <tensorflow.python.keras.layers.core.Dense object at 0x7f1fbe25e6d8>]\n",
      "[<tensorflow.python.keras.layers.core.Dense object at 0x7f1fbe21b438>, <tensorflow.python.keras.layers.core.Dense object at 0x7f1fbe1b75c0>, <tensorflow.python.keras.layers.core.Dense object at 0x7f1fbe01cb00>, <tensorflow.python.keras.layers.core.Dense object at 0x7f1fbdfc64a8>]\n",
      "Iteration 3 out of 10\n",
      "[<tensorflow.python.keras.layers.core.Dense object at 0x7f1fbe01c748>, <tensorflow.python.keras.layers.core.Dense object at 0x7f1fbc6e6470>, <tensorflow.python.keras.layers.core.Dense object at 0x7f1fbc6e6550>, <tensorflow.python.keras.layers.core.Dense object at 0x7f1fbc6e6668>]\n",
      "[<tensorflow.python.keras.layers.core.Dense object at 0x7f1fbc6e6898>, <tensorflow.python.keras.layers.core.Dense object at 0x7f1fbc624ef0>, <tensorflow.python.keras.layers.core.Dense object at 0x7f1fbc50f6a0>, <tensorflow.python.keras.layers.core.Dense object at 0x7f1fbc4aae48>]\n",
      "[<tensorflow.python.keras.layers.core.Dense object at 0x7f1fbc4cf080>, <tensorflow.python.keras.layers.core.Dense object at 0x7f1fbc411898>, <tensorflow.python.keras.layers.core.Dense object at 0x7f1fbc276358>, <tensorflow.python.keras.layers.core.Dense object at 0x7f1fbc2765f8>]\n",
      "Iteration 4 out of 10\n",
      "[<tensorflow.python.keras.layers.core.Dense object at 0x7f1fb0b6c240>, <tensorflow.python.keras.layers.core.Dense object at 0x7f1fb09f21d0>, <tensorflow.python.keras.layers.core.Dense object at 0x7f1fb09f29e8>, <tensorflow.python.keras.layers.core.Dense object at 0x7f1fb09f2eb8>]\n",
      "[<tensorflow.python.keras.layers.core.Dense object at 0x7f1fb0993128>, <tensorflow.python.keras.layers.core.Dense object at 0x7f1fb08f88d0>, <tensorflow.python.keras.layers.core.Dense object at 0x7f1fb0790f28>, <tensorflow.python.keras.layers.core.Dense object at 0x7f1fb07b87b8>]\n",
      "[<tensorflow.python.keras.layers.core.Dense object at 0x7f1fb07762e8>, <tensorflow.python.keras.layers.core.Dense object at 0x7f1fb069cf28>, <tensorflow.python.keras.layers.core.Dense object at 0x7f1fb0574be0>, <tensorflow.python.keras.layers.core.Dense object at 0x7f1fb051c5c0>]\n",
      "Iteration 5 out of 10\n",
      "[<tensorflow.python.keras.layers.core.Dense object at 0x7f1bbf58c668>, <tensorflow.python.keras.layers.core.Dense object at 0x7f1bbf42d4a8>, <tensorflow.python.keras.layers.core.Dense object at 0x7f1bbf42d780>, <tensorflow.python.keras.layers.core.Dense object at 0x7f1bbf42d898>]\n",
      "[<tensorflow.python.keras.layers.core.Dense object at 0x7f1bbf42dac8>, <tensorflow.python.keras.layers.core.Dense object at 0x7f1bbf36ff60>, <tensorflow.python.keras.layers.core.Dense object at 0x7f1bbf1cc860>, <tensorflow.python.keras.layers.core.Dense object at 0x7f1bbf174400>]\n",
      "[<tensorflow.python.keras.layers.core.Dense object at 0x7f1bbf19c048>, <tensorflow.python.keras.layers.core.Dense object at 0x7f1bbf0b6208>, <tensorflow.python.keras.layers.core.Dense object at 0x7f1bbef42518>, <tensorflow.python.keras.layers.core.Dense object at 0x7f1bbef5bef0>]\n",
      "Iteration 6 out of 10\n",
      "[<tensorflow.python.keras.layers.core.Dense object at 0x7f1bbd811400>, <tensorflow.python.keras.layers.core.Dense object at 0x7f1bbd6dd1d0>, <tensorflow.python.keras.layers.core.Dense object at 0x7f1bbd6ddba8>, <tensorflow.python.keras.layers.core.Dense object at 0x7f1bbd6840b8>]\n",
      "[<tensorflow.python.keras.layers.core.Dense object at 0x7f1bbd6842e8>, <tensorflow.python.keras.layers.core.Dense object at 0x7f1bbd5c2630>, <tensorflow.python.keras.layers.core.Dense object at 0x7f1bbd47dd68>, <tensorflow.python.keras.layers.core.Dense object at 0x7f1bbd4a4c88>]\n",
      "[<tensorflow.python.keras.layers.core.Dense object at 0x7f1bbd4407b8>, <tensorflow.python.keras.layers.core.Dense object at 0x7f1fb1f99e48>, <tensorflow.python.keras.layers.core.Dense object at 0x7f1fc01d3668>, <tensorflow.python.keras.layers.core.Dense object at 0x7f1fc01817f0>]\n",
      "Iteration 7 out of 10\n",
      "[<tensorflow.python.keras.layers.core.Dense object at 0x7f1bbbd26fd0>, <tensorflow.python.keras.layers.core.Dense object at 0x7f1bbbb8d668>, <tensorflow.python.keras.layers.core.Dense object at 0x7f1bbbbe9e48>, <tensorflow.python.keras.layers.core.Dense object at 0x7f1bbbb31160>]\n",
      "[<tensorflow.python.keras.layers.core.Dense object at 0x7f1bbbb31390>, <tensorflow.python.keras.layers.core.Dense object at 0x7f1bbba73ef0>, <tensorflow.python.keras.layers.core.Dense object at 0x7f1bbb9aedd8>, <tensorflow.python.keras.layers.core.Dense object at 0x7f1bbb958470>]\n",
      "[<tensorflow.python.keras.layers.core.Dense object at 0x7f1bbb8f5860>, <tensorflow.python.keras.layers.core.Dense object at 0x7f1bbb85b400>, <tensorflow.python.keras.layers.core.Dense object at 0x7f1bbb714e80>, <tensorflow.python.keras.layers.core.Dense object at 0x7f1bbb6b9710>]\n",
      "Iteration 8 out of 10\n",
      "[<tensorflow.python.keras.layers.core.Dense object at 0x7f1bb9e33e80>, <tensorflow.python.keras.layers.core.Dense object at 0x7f1bb9e56668>, <tensorflow.python.keras.layers.core.Dense object at 0x7f1bb9e56940>, <tensorflow.python.keras.layers.core.Dense object at 0x7f1bb9e56a58>]\n",
      "[<tensorflow.python.keras.layers.core.Dense object at 0x7f1bb9e56c88>, <tensorflow.python.keras.layers.core.Dense object at 0x7f1bb9d96f60>, <tensorflow.python.keras.layers.core.Dense object at 0x7f1bb9c6fa20>, <tensorflow.python.keras.layers.core.Dense object at 0x7f1bb9c193c8>]\n",
      "[<tensorflow.python.keras.layers.core.Dense object at 0x7f1bb9bbe128>, <tensorflow.python.keras.layers.core.Dense object at 0x7f1bb9b218d0>, <tensorflow.python.keras.layers.core.Dense object at 0x7f1bb99da6d8>, <tensorflow.python.keras.layers.core.Dense object at 0x7f1bb9981e48>]\n",
      "Iteration 9 out of 10\n",
      "[<tensorflow.python.keras.layers.core.Dense object at 0x7f1bb8100d30>, <tensorflow.python.keras.layers.core.Dense object at 0x7f1bb8100e80>, <tensorflow.python.keras.layers.core.Dense object at 0x7f1bb81231d0>, <tensorflow.python.keras.layers.core.Dense object at 0x7f1bb81232e8>]\n",
      "[<tensorflow.python.keras.layers.core.Dense object at 0x7f1bb8123518>, <tensorflow.python.keras.layers.core.Dense object at 0x7f1bb8063828>, <tensorflow.python.keras.layers.core.Dense object at 0x7f1bb7ece2b0>, <tensorflow.python.keras.layers.core.Dense object at 0x7f1bb7eead68>]\n",
      "[<tensorflow.python.keras.layers.core.Dense object at 0x7f1bb7eea978>, <tensorflow.python.keras.layers.core.Dense object at 0x7f1bb7d718d0>, <tensorflow.python.keras.layers.core.Dense object at 0x7f1bb7c8bf28>, <tensorflow.python.keras.layers.core.Dense object at 0x7f1bb7c337b8>]\n",
      "Iteration 10 out of 10\n",
      "[<tensorflow.python.keras.layers.core.Dense object at 0x7f1bb6531208>, <tensorflow.python.keras.layers.core.Dense object at 0x7f1bb63d7908>, <tensorflow.python.keras.layers.core.Dense object at 0x7f1bb63d79b0>, <tensorflow.python.keras.layers.core.Dense object at 0x7f1bb63d7ac8>]\n",
      "[<tensorflow.python.keras.layers.core.Dense object at 0x7f1bb63d7cf8>, <tensorflow.python.keras.layers.core.Dense object at 0x7f1bb7c53630>, <tensorflow.python.keras.layers.core.Dense object at 0x7f1bb61efac8>, <tensorflow.python.keras.layers.core.Dense object at 0x7f1bb6195470>]\n",
      "[<tensorflow.python.keras.layers.core.Dense object at 0x7f1bb614dcc0>, <tensorflow.python.keras.layers.core.Dense object at 0x7f1bb60db048>, <tensorflow.python.keras.layers.core.Dense object at 0x7f1bb5f587b8>, <tensorflow.python.keras.layers.core.Dense object at 0x7f1bb5eff7b8>]\n"
     ]
    }
   ],
   "source": [
    "output={'Original':[],'Balanced':[],'Imbalanced':[],'Data':[]}\n",
    "run_show(data,o_model_par,b_model_par,im_model_par,validation_tests,epochs,\n",
    "         batch_size,output,metric)"
   ]
  },
  {
   "cell_type": "code",
   "execution_count": 35,
   "metadata": {
    "colab": {},
    "colab_type": "code",
    "id": "rMMmHD-VyUA9"
   },
   "outputs": [],
   "source": [
    "results=calc_metrics(output)"
   ]
  },
  {
   "cell_type": "code",
   "execution_count": 36,
   "metadata": {
    "colab": {
     "base_uri": "https://localhost:8080/",
     "height": 1429
    },
    "colab_type": "code",
    "id": "YlSj-mMqyUBD",
    "outputId": "25b5624a-bc1e-4021-bbcc-9e860576e451"
   },
   "outputs": [
    {
     "name": "stdout",
     "output_type": "stream",
     "text": [
      "----------------------------------------------------------------------------------------------------\n",
      "accuracy_score\n",
      "----------------------------------------------------------------------------------------------------\n",
      "----------------------------------------------------------------------------------------------------\n",
      "Original Data\n",
      "----------------------------------------------------------------------------------------------------\n",
      "Average Accuracy Score: 0.9025316455696203 +/- (0.006315033564175435) \n",
      "Average Recall Score: 0.8316455696202532 +/- (0.0406664381402261) \n",
      "Average F1 Score: 0.8947932082098173 +/- (0.009677271886573618) \n",
      "Average ROC_AUC Score: 0.9025316455696203 +/- (0.006315033564175438) \n"
     ]
    },
    {
     "data": {
      "image/png": "[encoded data removed]",
      "text/plain": [
       "<Figure size 360x360 with 2 Axes>"
      ]
     },
     "metadata": {},
     "output_type": "display_data"
    },
    {
     "name": "stdout",
     "output_type": "stream",
     "text": [
      "----------------------------------------------------------------------------------------------------\n",
      "Balanced Data\n",
      "----------------------------------------------------------------------------------------------------\n",
      "Average Accuracy Score: 0.9447257383966244 +/- (0.006724631835657881) \n",
      "Average Recall Score: 0.9063291139240507 +/- (0.013181855993091416) \n",
      "Average F1 Score: 0.9424994883471257 +/- (0.0071208379547749905) \n",
      "Average ROC_AUC Score: 0.9447257383966245 +/- (0.0067246318356579135) \n"
     ]
    },
    {
     "data": {
      "image/png": "[encoded data removed]",
      "text/plain": [
       "<Figure size 360x360 with 2 Axes>"
      ]
     },
     "metadata": {},
     "output_type": "display_data"
    },
    {
     "name": "stdout",
     "output_type": "stream",
     "text": [
      "----------------------------------------------------------------------------------------------------\n",
      "Imbalanced Data\n",
      "----------------------------------------------------------------------------------------------------\n",
      "Average Accuracy Score: 0.9398734177215191 +/- (0.005521625454979915) \n",
      "Average Recall Score: 0.9143459915611813 +/- (0.01760560847681441) \n",
      "Average F1 Score: 0.9382495723325576 +/- (0.006115253517056788) \n",
      "Average ROC_AUC Score: 0.9398734177215191 +/- (0.005521625454979937) \n"
     ]
    },
    {
     "data": {
      "image/png": "[encoded data removed]",
      "text/plain": [
       "<Figure size 360x360 with 2 Axes>"
      ]
     },
     "metadata": {},
     "output_type": "display_data"
    }
   ],
   "source": [
    "print_report(results,metric)"
   ]
  },
  {
   "cell_type": "markdown",
   "metadata": {
    "colab_type": "text",
    "id": "MwiufYCdEweF"
   },
   "source": [
    "### 6.4 Area Under ROC Curve Score"
   ]
  },
  {
   "cell_type": "code",
   "execution_count": 37,
   "metadata": {
    "colab": {},
    "colab_type": "code",
    "id": "bAP6WuPwvnNu"
   },
   "outputs": [],
   "source": [
    "metric=roc_auc_score"
   ]
  },
  {
   "cell_type": "code",
   "execution_count": 38,
   "metadata": {
    "colab": {},
    "colab_type": "code",
    "id": "iUJEJe8xvnN0"
   },
   "outputs": [
    {
     "name": "stdout",
     "output_type": "stream",
     "text": [
      "Iteration 1 out of 10\n",
      "[<tensorflow.python.keras.layers.core.Dense object at 0x7f1bb4522550>, <tensorflow.python.keras.layers.core.Dense object at 0x7f1bb4522588>, <tensorflow.python.keras.layers.core.Dense object at 0x7f1bb45226a0>, <tensorflow.python.keras.layers.core.Dense object at 0x7f1bb45227b8>]\n",
      "[<tensorflow.python.keras.layers.core.Dense object at 0x7f1bb45229e8>, <tensorflow.python.keras.layers.core.Dense object at 0x7f1bb443de10>, <tensorflow.python.keras.layers.core.Dense object at 0x7f1bb42b4908>, <tensorflow.python.keras.layers.core.Dense object at 0x7f1bb42e02b0>]\n",
      "[<tensorflow.python.keras.layers.core.Dense object at 0x7f1bb42b4550>, <tensorflow.python.keras.layers.core.Dense object at 0x7f1bb4221400>, <tensorflow.python.keras.layers.core.Dense object at 0x7f1bb4099780>, <tensorflow.python.keras.layers.core.Dense object at 0x7f1bb4042438>]\n",
      "Iteration 2 out of 10\n",
      "[<tensorflow.python.keras.layers.core.Dense object at 0x7f1bb27d9be0>, <tensorflow.python.keras.layers.core.Dense object at 0x7f1bb27d99e8>, <tensorflow.python.keras.layers.core.Dense object at 0x7f1bb27d9d30>, <tensorflow.python.keras.layers.core.Dense object at 0x7f1bb27d9e48>]\n",
      "[<tensorflow.python.keras.layers.core.Dense object at 0x7f1bb27780b8>, <tensorflow.python.keras.layers.core.Dense object at 0x7f1bb26be3c8>, <tensorflow.python.keras.layers.core.Dense object at 0x7f1bb2575dd8>, <tensorflow.python.keras.layers.core.Dense object at 0x7f1bb259d668>]\n",
      "[<tensorflow.python.keras.layers.core.Dense object at 0x7f1bb2559400>, <tensorflow.python.keras.layers.core.Dense object at 0x7f1bb2481fd0>, <tensorflow.python.keras.layers.core.Dense object at 0x7f1bb235aac8>, <tensorflow.python.keras.layers.core.Dense object at 0x7f1bb2304470>]\n",
      "Iteration 3 out of 10\n",
      "[<tensorflow.python.keras.layers.core.Dense object at 0x7f1bb0cb0e80>, <tensorflow.python.keras.layers.core.Dense object at 0x7f1bb0cd9470>, <tensorflow.python.keras.layers.core.Dense object at 0x7f1bb0cd9748>, <tensorflow.python.keras.layers.core.Dense object at 0x7f1bb0cd9860>]\n",
      "[<tensorflow.python.keras.layers.core.Dense object at 0x7f1bb0cd9a90>, <tensorflow.python.keras.layers.core.Dense object at 0x7f1bb0c14f28>, <tensorflow.python.keras.layers.core.Dense object at 0x7f1bb0aec7f0>, <tensorflow.python.keras.layers.core.Dense object at 0x7f1bb0a91390>]\n",
      "[<tensorflow.python.keras.layers.core.Dense object at 0x7f1bb0a3a128>, <tensorflow.python.keras.layers.core.Dense object at 0x7f1bb09d51d0>, <tensorflow.python.keras.layers.core.Dense object at 0x7f1bb085e4e0>, <tensorflow.python.keras.layers.core.Dense object at 0x7f1bb07f7ef0>]\n",
      "Iteration 4 out of 10\n",
      "[<tensorflow.python.keras.layers.core.Dense object at 0x7f1baefefe80>, <tensorflow.python.keras.layers.core.Dense object at 0x7f1baefefc88>, <tensorflow.python.keras.layers.core.Dense object at 0x7f1baefeffd0>, <tensorflow.python.keras.layers.core.Dense object at 0x7f1baef98128>]\n",
      "[<tensorflow.python.keras.layers.core.Dense object at 0x7f1baef98358>, <tensorflow.python.keras.layers.core.Dense object at 0x7f1baeed85c0>, <tensorflow.python.keras.layers.core.Dense object at 0x7f1baed92cf8>, <tensorflow.python.keras.layers.core.Dense object at 0x7f1baed3dc50>]\n",
      "[<tensorflow.python.keras.layers.core.Dense object at 0x7f1baed56780>, <tensorflow.python.keras.layers.core.Dense object at 0x7f1baec9eda0>, <tensorflow.python.keras.layers.core.Dense object at 0x7f1baeaf5d30>, <tensorflow.python.keras.layers.core.Dense object at 0x7f1baeb1d630>]\n",
      "Iteration 5 out of 10\n",
      "[<tensorflow.python.keras.layers.core.Dense object at 0x7f1bad41d7b8>, <tensorflow.python.keras.layers.core.Dense object at 0x7f1bad2475f8>, <tensorflow.python.keras.layers.core.Dense object at 0x7f1bad2478d0>, <tensorflow.python.keras.layers.core.Dense object at 0x7f1bad2479e8>]\n",
      "[<tensorflow.python.keras.layers.core.Dense object at 0x7f1bad247c18>, <tensorflow.python.keras.layers.core.Dense object at 0x7f1bad186ef0>, <tensorflow.python.keras.layers.core.Dense object at 0x7f1bad062978>, <tensorflow.python.keras.layers.core.Dense object at 0x7f1bad00c320>]\n",
      "[<tensorflow.python.keras.layers.core.Dense object at 0x7f1bad0625c0>, <tensorflow.python.keras.layers.core.Dense object at 0x7f1bacef2eb8>, <tensorflow.python.keras.layers.core.Dense object at 0x7f1bacdd7668>, <tensorflow.python.keras.layers.core.Dense object at 0x7f1bacd70d68>]\n",
      "Iteration 6 out of 10\n",
      "[<tensorflow.python.keras.layers.core.Dense object at 0x7f1bab4f8cc0>, <tensorflow.python.keras.layers.core.Dense object at 0x7f1bab6ea748>, <tensorflow.python.keras.layers.core.Dense object at 0x7f1bab5200f0>, <tensorflow.python.keras.layers.core.Dense object at 0x7f1bab520208>]\n",
      "[<tensorflow.python.keras.layers.core.Dense object at 0x7f1bab520438>, <tensorflow.python.keras.layers.core.Dense object at 0x7f1bab442198>, <tensorflow.python.keras.layers.core.Dense object at 0x7f1bab31ddd8>, <tensorflow.python.keras.layers.core.Dense object at 0x7f1bab2c5470>]\n",
      "[<tensorflow.python.keras.layers.core.Dense object at 0x7f1bab2e2860>, <tensorflow.python.keras.layers.core.Dense object at 0x7f1bab1c9358>, <tensorflow.python.keras.layers.core.Dense object at 0x7f1bab083e48>, <tensorflow.python.keras.layers.core.Dense object at 0x7f1bab0ac240>]\n",
      "Iteration 7 out of 10\n",
      "[<tensorflow.python.keras.layers.core.Dense object at 0x7f1ba99511d0>, <tensorflow.python.keras.layers.core.Dense object at 0x7f1ba97c87b8>, <tensorflow.python.keras.layers.core.Dense object at 0x7f1ba97c8a90>, <tensorflow.python.keras.layers.core.Dense object at 0x7f1ba97c8ba8>]\n",
      "[<tensorflow.python.keras.layers.core.Dense object at 0x7f1ba97c8dd8>, <tensorflow.python.keras.layers.core.Dense object at 0x7f1ba9768b70>, <tensorflow.python.keras.layers.core.Dense object at 0x7f1ba95e1b70>, <tensorflow.python.keras.layers.core.Dense object at 0x7f1ba9589550>]\n",
      "[<tensorflow.python.keras.layers.core.Dense object at 0x7f1ba95e17b8>, <tensorflow.python.keras.layers.core.Dense object at 0x7f1ba94eff28>, <tensorflow.python.keras.layers.core.Dense object at 0x7f1ba93497f0>, <tensorflow.python.keras.layers.core.Dense object at 0x7f1ba92f1390>]\n",
      "Iteration 8 out of 10\n",
      "[<tensorflow.python.keras.layers.core.Dense object at 0x7f1ba7a77f98>, <tensorflow.python.keras.layers.core.Dense object at 0x7f1ba7a970f0>, <tensorflow.python.keras.layers.core.Dense object at 0x7f1ba7a973c8>, <tensorflow.python.keras.layers.core.Dense object at 0x7f1ba7a974e0>]\n",
      "[<tensorflow.python.keras.layers.core.Dense object at 0x7f1ba7a97710>, <tensorflow.python.keras.layers.core.Dense object at 0x7f1ba79b8c50>, <tensorflow.python.keras.layers.core.Dense object at 0x7f1ba783a470>, <tensorflow.python.keras.layers.core.Dense object at 0x7f1ba7855ef0>]\n",
      "[<tensorflow.python.keras.layers.core.Dense object at 0x7f1ba7855b00>, <tensorflow.python.keras.layers.core.Dense object at 0x7f1ba7741630>, <tensorflow.python.keras.layers.core.Dense object at 0x7f1ba75fbd68>, <tensorflow.python.keras.layers.core.Dense object at 0x7f1ba7624b00>]\n",
      "Iteration 9 out of 10\n",
      "[<tensorflow.python.keras.layers.core.Dense object at 0x7f1ba5d3fba8>, <tensorflow.python.keras.layers.core.Dense object at 0x7f1ba5d3f9b0>, <tensorflow.python.keras.layers.core.Dense object at 0x7f1ba5d3fcf8>, <tensorflow.python.keras.layers.core.Dense object at 0x7f1ba5d3fe10>]\n",
      "[<tensorflow.python.keras.layers.core.Dense object at 0x7f1ba5e72160>, <tensorflow.python.keras.layers.core.Dense object at 0x7f1ba5c494e0>, <tensorflow.python.keras.layers.core.Dense object at 0x7f1ba5b5dda0>, <tensorflow.python.keras.layers.core.Dense object at 0x7f1ba5b066a0>]\n",
      "[<tensorflow.python.keras.layers.core.Dense object at 0x7f1ba5ac53c8>, <tensorflow.python.keras.layers.core.Dense object at 0x7f1ba5a6bf60>, <tensorflow.python.keras.layers.core.Dense object at 0x7f1ba58c7a58>, <tensorflow.python.keras.layers.core.Dense object at 0x7f1ba58ef400>]\n",
      "Iteration 10 out of 10\n",
      "[<tensorflow.python.keras.layers.core.Dense object at 0x7f1ba4196630>, <tensorflow.python.keras.layers.core.Dense object at 0x7f1ba40102e8>, <tensorflow.python.keras.layers.core.Dense object at 0x7f1ba40105c0>, <tensorflow.python.keras.layers.core.Dense object at 0x7f1ba40106d8>]\n",
      "[<tensorflow.python.keras.layers.core.Dense object at 0x7f1ba4010908>, <tensorflow.python.keras.layers.core.Dense object at 0x7f1ba3f52ef0>, <tensorflow.python.keras.layers.core.Dense object at 0x7f1ba3db76a0>, <tensorflow.python.keras.layers.core.Dense object at 0x7f1ba3dcce48>]\n",
      "[<tensorflow.python.keras.layers.core.Dense object at 0x7f1ba3dd2080>, <tensorflow.python.keras.layers.core.Dense object at 0x7f1ba3d1ea20>, <tensorflow.python.keras.layers.core.Dense object at 0x7f1ba3b9e320>, <tensorflow.python.keras.layers.core.Dense object at 0x7f1ba3b9e5c0>]\n"
     ]
    }
   ],
   "source": [
    "output={'Original':[],'Balanced':[],'Imbalanced':[],'Data':[]}\n",
    "run_show(data,o_model_par,b_model_par,im_model_par,validation_tests,epochs,\n",
    "         batch_size,output,metric)"
   ]
  },
  {
   "cell_type": "code",
   "execution_count": 39,
   "metadata": {
    "colab": {},
    "colab_type": "code",
    "id": "qGH63HUBvnOL"
   },
   "outputs": [],
   "source": [
    "results=calc_metrics(output)"
   ]
  },
  {
   "cell_type": "code",
   "execution_count": 40,
   "metadata": {
    "colab": {
     "base_uri": "https://localhost:8080/",
     "height": 1429
    },
    "colab_type": "code",
    "id": "E0uWj5kbvnOP",
    "outputId": "208491ec-1daf-48ad-d7ce-ea8ffdc314c2"
   },
   "outputs": [
    {
     "name": "stdout",
     "output_type": "stream",
     "text": [
      "----------------------------------------------------------------------------------------------------\n",
      "roc_auc_score\n",
      "----------------------------------------------------------------------------------------------------\n",
      "----------------------------------------------------------------------------------------------------\n",
      "Original Data\n",
      "----------------------------------------------------------------------------------------------------\n",
      "Average Accuracy Score: 0.9075949367088608 +/- (0.01002054184560162) \n",
      "Average Recall Score: 0.8333333333333333 +/- (0.03269701901444619) \n",
      "Average F1 Score: 0.9001067970982739 +/- (0.011085437196549556) \n",
      "Average ROC_AUC Score: 0.9075949367088609 +/- (0.01002054184560165) \n"
     ]
    },
    {
     "data": {
      "image/png": "[encoded data removed]",
      "text/plain": [
       "<Figure size 360x360 with 2 Axes>"
      ]
     },
     "metadata": {},
     "output_type": "display_data"
    },
    {
     "name": "stdout",
     "output_type": "stream",
     "text": [
      "----------------------------------------------------------------------------------------------------\n",
      "Balanced Data\n",
      "----------------------------------------------------------------------------------------------------\n",
      "Average Accuracy Score: 0.9481012658227848 +/- (0.006129046011111374) \n",
      "Average Recall Score: 0.9151898734177216 +/- (0.01491189624225512) \n",
      "Average F1 Score: 0.9463055491905583 +/- (0.006576757709144712) \n",
      "Average ROC_AUC Score: 0.9481012658227848 +/- (0.006129046011111387) \n"
     ]
    },
    {
     "data": {
      "image/png": "[encoded data removed]",
      "text/plain": [
       "<Figure size 360x360 with 2 Axes>"
      ]
     },
     "metadata": {},
     "output_type": "display_data"
    },
    {
     "name": "stdout",
     "output_type": "stream",
     "text": [
      "----------------------------------------------------------------------------------------------------\n",
      "Imbalanced Data\n",
      "----------------------------------------------------------------------------------------------------\n",
      "Average Accuracy Score: 0.9464135021097044 +/- (0.007676542362303892) \n",
      "Average Recall Score: 0.9101265822784811 +/- (0.021269338668571412) \n",
      "Average F1 Score: 0.944296451817701 +/- (0.0086070520668846) \n",
      "Average ROC_AUC Score: 0.9464135021097044 +/- (0.007676542362303915) \n"
     ]
    },
    {
     "data": {
      "image/png": "[encoded data removed]",
      "text/plain": [
       "<Figure size 360x360 with 2 Axes>"
      ]
     },
     "metadata": {},
     "output_type": "display_data"
    }
   ],
   "source": [
    "print_report(results,metric)"
   ]
  },
  {
   "cell_type": "markdown",
   "metadata": {
    "colab_type": "text",
    "id": "P7t1t7I98eSH"
   },
   "source": [
    "## 7. Conclusion\n",
    "\n",
    "For this dataset,  MLP classifiers are developed to achieve fraud credit card transactions  detection.\n",
    "\n",
    "The original data set is imbalanced with more non-fraudulent transactions.  I trained three different MLPs over original, balanced, and fraudulent-imbalanced train data sets. All three models are tested over the exact test data sets to avoid data leakage. To achieve robust measurements, the whole training and testing process is repeated multiple times over multiple test/train data sets.  \n",
    "\n",
    "Results shows that balanced and fraudulent-imbalanced train data sets are more efficient in terms of fraudulent transactions detection. Moreover, models that are trained to maximize recall score or F1 score are the best among the used metrics (F1 score, recall score, accuracy score, and area under ROC curve) \n",
    "\n",
    "In particular, there is a trade off between models trained to maximize recall score and F1 score. Recall score based MLP classifiers are getting most of the true positives however getting more false positives as well. Training over F1 score reduces slightly both true positives and false positives as well. Both models are fine but usage might be subject to credit card company objective. More sophisticated models can be trained on multiple metrics requirements. "
   ]
  }
 ],
 "metadata": {
  "accelerator": "GPU",
  "colab": {
   "collapsed_sections": [],
   "name": "TF-MLP_Classifier_Credit_Card_Anomaly_Detection.ipynb",
   "provenance": [],
   "version": "0.3.2"
  },
  "kernelspec": {
   "display_name": "Python 3",
   "name": "python3"
  }
 },
 "nbformat": 4,
 "nbformat_minor": 1
}
